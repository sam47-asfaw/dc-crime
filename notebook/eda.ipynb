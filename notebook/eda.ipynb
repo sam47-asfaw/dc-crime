{
 "cells": [
  {
   "cell_type": "markdown",
   "metadata": {},
   "source": [
    "##### Problem Statement :Perform Exploratory Data Analysis on DC Crime to draw insights for model training\n",
    " "
   ]
  },
  {
   "cell_type": "code",
   "execution_count": 1,
   "metadata": {},
   "outputs": [],
   "source": [
    "import numpy as np\n",
    "import pandas as pd\n",
    "import matplotlib.pyplot as plt\n",
    "import seaborn as sns\n",
    "import missingno as msn\n",
    "import warnings\n",
    "warnings.filterwarnings('ignore')\n",
    "%matplotlib inline"
   ]
  },
  {
   "cell_type": "markdown",
   "metadata": {},
   "source": [
    "##### 1. Data Ingestion & Data Preparation"
   ]
  },
  {
   "cell_type": "code",
   "execution_count": null,
   "metadata": {},
   "outputs": [
    {
     "name": "stdout",
     "output_type": "stream",
     "text": [
      "<class 'pandas.core.frame.DataFrame'>\n",
      "RangeIndex: 14369 entries, 0 to 14368\n",
      "Data columns (total 25 columns):\n",
      " #   Column                Non-Null Count  Dtype  \n",
      "---  ------                --------------  -----  \n",
      " 0   X                     14369 non-null  float64\n",
      " 1   Y                     14369 non-null  float64\n",
      " 2   CCN                   14369 non-null  int64  \n",
      " 3   REPORT_DAT            14369 non-null  object \n",
      " 4   SHIFT                 14369 non-null  object \n",
      " 5   METHOD                14369 non-null  object \n",
      " 6   OFFENSE               14369 non-null  object \n",
      " 7   BLOCK                 14369 non-null  object \n",
      " 8   XBLOCK                14369 non-null  float64\n",
      " 9   YBLOCK                14369 non-null  float64\n",
      " 10  WARD                  14367 non-null  float64\n",
      " 11  ANC                   14367 non-null  object \n",
      " 12  DISTRICT              14130 non-null  float64\n",
      " 13  PSA                   14118 non-null  float64\n",
      " 14  NEIGHBORHOOD_CLUSTER  14367 non-null  object \n",
      " 15  BLOCK_GROUP           14361 non-null  object \n",
      " 16  CENSUS_TRACT          14361 non-null  float64\n",
      " 17  VOTING_PRECINCT       14367 non-null  object \n",
      " 18  LATITUDE              14369 non-null  float64\n",
      " 19  LONGITUDE             14369 non-null  float64\n",
      " 20  BID                   2592 non-null   object \n",
      " 21  START_DATE            14366 non-null  object \n",
      " 22  END_DATE              13282 non-null  object \n",
      " 23  OBJECTID              14369 non-null  int64  \n",
      " 24  OCTO_RECORD_ID        0 non-null      float64\n",
      "dtypes: float64(11), int64(2), object(12)\n",
      "memory usage: 2.7+ MB\n"
     ]
    }
   ],
   "source": [
    "df = pd.read_csv('dc_crime_nov_2024.csv')\n",
    "df.info()"
   ]
  },
  {
   "cell_type": "code",
   "execution_count": 3,
   "metadata": {},
   "outputs": [
    {
     "data": {
      "text/plain": [
       "(14369, 25)"
      ]
     },
     "execution_count": 3,
     "metadata": {},
     "output_type": "execute_result"
    }
   ],
   "source": [
    "df.shape"
   ]
  },
  {
   "cell_type": "code",
   "execution_count": 4,
   "metadata": {},
   "outputs": [
    {
     "data": {
      "text/html": [
       "<div>\n",
       "<style scoped>\n",
       "    .dataframe tbody tr th:only-of-type {\n",
       "        vertical-align: middle;\n",
       "    }\n",
       "\n",
       "    .dataframe tbody tr th {\n",
       "        vertical-align: top;\n",
       "    }\n",
       "\n",
       "    .dataframe thead th {\n",
       "        text-align: right;\n",
       "    }\n",
       "</style>\n",
       "<table border=\"1\" class=\"dataframe\">\n",
       "  <thead>\n",
       "    <tr style=\"text-align: right;\">\n",
       "      <th></th>\n",
       "      <th>X</th>\n",
       "      <th>Y</th>\n",
       "      <th>CCN</th>\n",
       "      <th>REPORT_DAT</th>\n",
       "      <th>SHIFT</th>\n",
       "      <th>METHOD</th>\n",
       "      <th>OFFENSE</th>\n",
       "      <th>BLOCK</th>\n",
       "      <th>XBLOCK</th>\n",
       "      <th>YBLOCK</th>\n",
       "      <th>...</th>\n",
       "      <th>BLOCK_GROUP</th>\n",
       "      <th>CENSUS_TRACT</th>\n",
       "      <th>VOTING_PRECINCT</th>\n",
       "      <th>LATITUDE</th>\n",
       "      <th>LONGITUDE</th>\n",
       "      <th>BID</th>\n",
       "      <th>START_DATE</th>\n",
       "      <th>END_DATE</th>\n",
       "      <th>OBJECTID</th>\n",
       "      <th>OCTO_RECORD_ID</th>\n",
       "    </tr>\n",
       "  </thead>\n",
       "  <tbody>\n",
       "    <tr>\n",
       "      <th>0</th>\n",
       "      <td>-76.987814</td>\n",
       "      <td>38.888823</td>\n",
       "      <td>24058468</td>\n",
       "      <td>2024/04/19 08:48:36+00</td>\n",
       "      <td>MIDNIGHT</td>\n",
       "      <td>OTHERS</td>\n",
       "      <td>MOTOR VEHICLE THEFT</td>\n",
       "      <td>1300 - 1332 BLOCK OF MASSACHUSETTS AVENUE SE</td>\n",
       "      <td>401057.46000</td>\n",
       "      <td>135663.730000</td>\n",
       "      <td>...</td>\n",
       "      <td>006700 1</td>\n",
       "      <td>6700.0</td>\n",
       "      <td>Precinct 88</td>\n",
       "      <td>38.888815</td>\n",
       "      <td>-76.987811</td>\n",
       "      <td>NaN</td>\n",
       "      <td>2024/04/19 07:37:00+00</td>\n",
       "      <td>2024/04/19 08:15:00+00</td>\n",
       "      <td>553684053</td>\n",
       "      <td>NaN</td>\n",
       "    </tr>\n",
       "    <tr>\n",
       "      <th>1</th>\n",
       "      <td>-77.066073</td>\n",
       "      <td>38.905542</td>\n",
       "      <td>24058885</td>\n",
       "      <td>2024/04/20 09:09:24+00</td>\n",
       "      <td>MIDNIGHT</td>\n",
       "      <td>KNIFE</td>\n",
       "      <td>ROBBERY</td>\n",
       "      <td>1200 - 1227 BLOCK OF 33RD STREET NW</td>\n",
       "      <td>394269.23000</td>\n",
       "      <td>137521.710000</td>\n",
       "      <td>...</td>\n",
       "      <td>000202 3</td>\n",
       "      <td>202.0</td>\n",
       "      <td>Precinct 6</td>\n",
       "      <td>38.905534</td>\n",
       "      <td>-77.066071</td>\n",
       "      <td>GEORGETOWN</td>\n",
       "      <td>2024/04/20 02:06:00+00</td>\n",
       "      <td>2024/04/20 03:41:00+00</td>\n",
       "      <td>553684054</td>\n",
       "      <td>NaN</td>\n",
       "    </tr>\n",
       "    <tr>\n",
       "      <th>2</th>\n",
       "      <td>-76.941883</td>\n",
       "      <td>38.902526</td>\n",
       "      <td>24097356</td>\n",
       "      <td>2024/06/26 17:29:51+00</td>\n",
       "      <td>DAY</td>\n",
       "      <td>OTHERS</td>\n",
       "      <td>MOTOR VEHICLE THEFT</td>\n",
       "      <td>4250 - 4299 BLOCK OF MINNESOTA AVENUE NE</td>\n",
       "      <td>405041.35000</td>\n",
       "      <td>137186.490000</td>\n",
       "      <td>...</td>\n",
       "      <td>007809 2</td>\n",
       "      <td>7809.0</td>\n",
       "      <td>Precinct 94</td>\n",
       "      <td>38.902519</td>\n",
       "      <td>-76.941880</td>\n",
       "      <td>NaN</td>\n",
       "      <td>2024/06/26 12:05:00+00</td>\n",
       "      <td>2024/06/26 12:40:00+00</td>\n",
       "      <td>553684585</td>\n",
       "      <td>NaN</td>\n",
       "    </tr>\n",
       "    <tr>\n",
       "      <th>3</th>\n",
       "      <td>-76.971909</td>\n",
       "      <td>38.847790</td>\n",
       "      <td>24015650</td>\n",
       "      <td>2024/01/31 22:53:15+00</td>\n",
       "      <td>EVENING</td>\n",
       "      <td>GUN</td>\n",
       "      <td>ROBBERY</td>\n",
       "      <td>2200 - 2299 BLOCK OF SAVANNAH STREET SE</td>\n",
       "      <td>402438.66448</td>\n",
       "      <td>131109.085399</td>\n",
       "      <td>...</td>\n",
       "      <td>007409 2</td>\n",
       "      <td>7409.0</td>\n",
       "      <td>Precinct 116</td>\n",
       "      <td>38.847782</td>\n",
       "      <td>-76.971907</td>\n",
       "      <td>NaN</td>\n",
       "      <td>2024/01/31 03:40:00+00</td>\n",
       "      <td>2024/01/31 04:00:00+00</td>\n",
       "      <td>553684640</td>\n",
       "      <td>NaN</td>\n",
       "    </tr>\n",
       "    <tr>\n",
       "      <th>4</th>\n",
       "      <td>-76.972036</td>\n",
       "      <td>38.863898</td>\n",
       "      <td>24017491</td>\n",
       "      <td>2024/02/04 01:13:07+00</td>\n",
       "      <td>EVENING</td>\n",
       "      <td>OTHERS</td>\n",
       "      <td>BURGLARY</td>\n",
       "      <td>2300 - 2399 BLOCK OF ALTAMONT PLACE SE</td>\n",
       "      <td>402427.16320</td>\n",
       "      <td>132897.247097</td>\n",
       "      <td>...</td>\n",
       "      <td>007605 4</td>\n",
       "      <td>7605.0</td>\n",
       "      <td>Precinct 134</td>\n",
       "      <td>38.863891</td>\n",
       "      <td>-76.972033</td>\n",
       "      <td>NaN</td>\n",
       "      <td>2024/02/03 23:06:00+00</td>\n",
       "      <td>2024/02/04 01:13:00+00</td>\n",
       "      <td>553684641</td>\n",
       "      <td>NaN</td>\n",
       "    </tr>\n",
       "  </tbody>\n",
       "</table>\n",
       "<p>5 rows × 25 columns</p>\n",
       "</div>"
      ],
      "text/plain": [
       "           X          Y       CCN              REPORT_DAT     SHIFT  METHOD  \\\n",
       "0 -76.987814  38.888823  24058468  2024/04/19 08:48:36+00  MIDNIGHT  OTHERS   \n",
       "1 -77.066073  38.905542  24058885  2024/04/20 09:09:24+00  MIDNIGHT   KNIFE   \n",
       "2 -76.941883  38.902526  24097356  2024/06/26 17:29:51+00       DAY  OTHERS   \n",
       "3 -76.971909  38.847790  24015650  2024/01/31 22:53:15+00   EVENING     GUN   \n",
       "4 -76.972036  38.863898  24017491  2024/02/04 01:13:07+00   EVENING  OTHERS   \n",
       "\n",
       "               OFFENSE                                         BLOCK  \\\n",
       "0  MOTOR VEHICLE THEFT  1300 - 1332 BLOCK OF MASSACHUSETTS AVENUE SE   \n",
       "1              ROBBERY           1200 - 1227 BLOCK OF 33RD STREET NW   \n",
       "2  MOTOR VEHICLE THEFT      4250 - 4299 BLOCK OF MINNESOTA AVENUE NE   \n",
       "3              ROBBERY       2200 - 2299 BLOCK OF SAVANNAH STREET SE   \n",
       "4             BURGLARY        2300 - 2399 BLOCK OF ALTAMONT PLACE SE   \n",
       "\n",
       "         XBLOCK         YBLOCK  ...  BLOCK_GROUP CENSUS_TRACT  \\\n",
       "0  401057.46000  135663.730000  ...     006700 1       6700.0   \n",
       "1  394269.23000  137521.710000  ...     000202 3        202.0   \n",
       "2  405041.35000  137186.490000  ...     007809 2       7809.0   \n",
       "3  402438.66448  131109.085399  ...     007409 2       7409.0   \n",
       "4  402427.16320  132897.247097  ...     007605 4       7605.0   \n",
       "\n",
       "   VOTING_PRECINCT   LATITUDE  LONGITUDE         BID              START_DATE  \\\n",
       "0      Precinct 88  38.888815 -76.987811         NaN  2024/04/19 07:37:00+00   \n",
       "1       Precinct 6  38.905534 -77.066071  GEORGETOWN  2024/04/20 02:06:00+00   \n",
       "2      Precinct 94  38.902519 -76.941880         NaN  2024/06/26 12:05:00+00   \n",
       "3     Precinct 116  38.847782 -76.971907         NaN  2024/01/31 03:40:00+00   \n",
       "4     Precinct 134  38.863891 -76.972033         NaN  2024/02/03 23:06:00+00   \n",
       "\n",
       "                 END_DATE   OBJECTID  OCTO_RECORD_ID  \n",
       "0  2024/04/19 08:15:00+00  553684053             NaN  \n",
       "1  2024/04/20 03:41:00+00  553684054             NaN  \n",
       "2  2024/06/26 12:40:00+00  553684585             NaN  \n",
       "3  2024/01/31 04:00:00+00  553684640             NaN  \n",
       "4  2024/02/04 01:13:00+00  553684641             NaN  \n",
       "\n",
       "[5 rows x 25 columns]"
      ]
     },
     "execution_count": 4,
     "metadata": {},
     "output_type": "execute_result"
    }
   ],
   "source": [
    "df.head()"
   ]
  },
  {
   "cell_type": "code",
   "execution_count": 5,
   "metadata": {},
   "outputs": [
    {
     "data": {
      "text/html": [
       "<div>\n",
       "<style scoped>\n",
       "    .dataframe tbody tr th:only-of-type {\n",
       "        vertical-align: middle;\n",
       "    }\n",
       "\n",
       "    .dataframe tbody tr th {\n",
       "        vertical-align: top;\n",
       "    }\n",
       "\n",
       "    .dataframe thead th {\n",
       "        text-align: right;\n",
       "    }\n",
       "</style>\n",
       "<table border=\"1\" class=\"dataframe\">\n",
       "  <thead>\n",
       "    <tr style=\"text-align: right;\">\n",
       "      <th></th>\n",
       "      <th>X</th>\n",
       "      <th>Y</th>\n",
       "      <th>CCN</th>\n",
       "      <th>REPORT_DAT</th>\n",
       "      <th>SHIFT</th>\n",
       "      <th>METHOD</th>\n",
       "      <th>OFFENSE</th>\n",
       "      <th>BLOCK</th>\n",
       "      <th>XBLOCK</th>\n",
       "      <th>YBLOCK</th>\n",
       "      <th>...</th>\n",
       "      <th>BLOCK_GROUP</th>\n",
       "      <th>CENSUS_TRACT</th>\n",
       "      <th>VOTING_PRECINCT</th>\n",
       "      <th>LATITUDE</th>\n",
       "      <th>LONGITUDE</th>\n",
       "      <th>BID</th>\n",
       "      <th>START_DATE</th>\n",
       "      <th>END_DATE</th>\n",
       "      <th>OBJECTID</th>\n",
       "      <th>OCTO_RECORD_ID</th>\n",
       "    </tr>\n",
       "  </thead>\n",
       "  <tbody>\n",
       "    <tr>\n",
       "      <th>14364</th>\n",
       "      <td>-77.027952</td>\n",
       "      <td>38.961987</td>\n",
       "      <td>24105388</td>\n",
       "      <td>2024/07/10 09:58:04+00</td>\n",
       "      <td>MIDNIGHT</td>\n",
       "      <td>OTHERS</td>\n",
       "      <td>MOTOR VEHICLE THEFT</td>\n",
       "      <td>5900 - 5999 BLOCK OF GEORGIA AVENUE NW</td>\n",
       "      <td>397577.63</td>\n",
       "      <td>143785.94</td>\n",
       "      <td>...</td>\n",
       "      <td>001901 1</td>\n",
       "      <td>1901.0</td>\n",
       "      <td>Precinct 58</td>\n",
       "      <td>38.961980</td>\n",
       "      <td>-77.027950</td>\n",
       "      <td>NaN</td>\n",
       "      <td>2024/07/10 01:33:00+00</td>\n",
       "      <td>2024/07/10 03:06:00+00</td>\n",
       "      <td>554231786</td>\n",
       "      <td>NaN</td>\n",
       "    </tr>\n",
       "    <tr>\n",
       "      <th>14365</th>\n",
       "      <td>-76.965607</td>\n",
       "      <td>38.851270</td>\n",
       "      <td>24105765</td>\n",
       "      <td>2024/07/10 21:35:01+00</td>\n",
       "      <td>EVENING</td>\n",
       "      <td>OTHERS</td>\n",
       "      <td>MOTOR VEHICLE THEFT</td>\n",
       "      <td>3029 - 3299 BLOCK OF BUENA VISTA TERRACE SE</td>\n",
       "      <td>402985.66</td>\n",
       "      <td>131495.55</td>\n",
       "      <td>...</td>\n",
       "      <td>007502 3</td>\n",
       "      <td>7502.0</td>\n",
       "      <td>Precinct 115</td>\n",
       "      <td>38.851262</td>\n",
       "      <td>-76.965604</td>\n",
       "      <td>NaN</td>\n",
       "      <td>2024/07/10 21:14:00+00</td>\n",
       "      <td>2024/07/10 21:33:00+00</td>\n",
       "      <td>554231788</td>\n",
       "      <td>NaN</td>\n",
       "    </tr>\n",
       "    <tr>\n",
       "      <th>14366</th>\n",
       "      <td>-77.026308</td>\n",
       "      <td>38.929320</td>\n",
       "      <td>24105624</td>\n",
       "      <td>2024/07/10 16:35:47+00</td>\n",
       "      <td>DAY</td>\n",
       "      <td>OTHERS</td>\n",
       "      <td>THEFT F/AUTO</td>\n",
       "      <td>3100 - 3199 BLOCK OF SHERMAN AVENUE NW</td>\n",
       "      <td>397719.10</td>\n",
       "      <td>140159.55</td>\n",
       "      <td>...</td>\n",
       "      <td>003100 1</td>\n",
       "      <td>3100.0</td>\n",
       "      <td>Precinct 38</td>\n",
       "      <td>38.929312</td>\n",
       "      <td>-77.026305</td>\n",
       "      <td>NaN</td>\n",
       "      <td>2024/07/10 16:00:00+00</td>\n",
       "      <td>2024/07/10 16:16:00+00</td>\n",
       "      <td>554231789</td>\n",
       "      <td>NaN</td>\n",
       "    </tr>\n",
       "    <tr>\n",
       "      <th>14367</th>\n",
       "      <td>-76.935600</td>\n",
       "      <td>38.879192</td>\n",
       "      <td>24105864</td>\n",
       "      <td>2024/07/11 03:08:34+00</td>\n",
       "      <td>MIDNIGHT</td>\n",
       "      <td>OTHERS</td>\n",
       "      <td>THEFT F/AUTO</td>\n",
       "      <td>717 - 797 BLOCK OF 46TH STREET SE</td>\n",
       "      <td>405588.10</td>\n",
       "      <td>134596.52</td>\n",
       "      <td>...</td>\n",
       "      <td>007707 2</td>\n",
       "      <td>7707.0</td>\n",
       "      <td>Precinct 106</td>\n",
       "      <td>38.879184</td>\n",
       "      <td>-76.935598</td>\n",
       "      <td>NaN</td>\n",
       "      <td>2024/07/11 00:12:00+00</td>\n",
       "      <td>2024/07/11 00:21:00+00</td>\n",
       "      <td>554231790</td>\n",
       "      <td>NaN</td>\n",
       "    </tr>\n",
       "    <tr>\n",
       "      <th>14368</th>\n",
       "      <td>-76.976248</td>\n",
       "      <td>38.884085</td>\n",
       "      <td>24035150</td>\n",
       "      <td>2024/03/08 01:12:37+00</td>\n",
       "      <td>EVENING</td>\n",
       "      <td>OTHERS</td>\n",
       "      <td>THEFT F/AUTO</td>\n",
       "      <td>1900 BLOCK OF D STREET SE</td>\n",
       "      <td>402061.00</td>\n",
       "      <td>135138.00</td>\n",
       "      <td>...</td>\n",
       "      <td>006804 1</td>\n",
       "      <td>6804.0</td>\n",
       "      <td>Precinct 80</td>\n",
       "      <td>38.884077</td>\n",
       "      <td>-76.976246</td>\n",
       "      <td>NaN</td>\n",
       "      <td>2024/03/06 13:00:00+00</td>\n",
       "      <td>2024/03/06 16:00:00+00</td>\n",
       "      <td>554231791</td>\n",
       "      <td>NaN</td>\n",
       "    </tr>\n",
       "  </tbody>\n",
       "</table>\n",
       "<p>5 rows × 25 columns</p>\n",
       "</div>"
      ],
      "text/plain": [
       "               X          Y       CCN              REPORT_DAT     SHIFT  \\\n",
       "14364 -77.027952  38.961987  24105388  2024/07/10 09:58:04+00  MIDNIGHT   \n",
       "14365 -76.965607  38.851270  24105765  2024/07/10 21:35:01+00   EVENING   \n",
       "14366 -77.026308  38.929320  24105624  2024/07/10 16:35:47+00       DAY   \n",
       "14367 -76.935600  38.879192  24105864  2024/07/11 03:08:34+00  MIDNIGHT   \n",
       "14368 -76.976248  38.884085  24035150  2024/03/08 01:12:37+00   EVENING   \n",
       "\n",
       "       METHOD              OFFENSE  \\\n",
       "14364  OTHERS  MOTOR VEHICLE THEFT   \n",
       "14365  OTHERS  MOTOR VEHICLE THEFT   \n",
       "14366  OTHERS         THEFT F/AUTO   \n",
       "14367  OTHERS         THEFT F/AUTO   \n",
       "14368  OTHERS         THEFT F/AUTO   \n",
       "\n",
       "                                             BLOCK     XBLOCK     YBLOCK  ...  \\\n",
       "14364       5900 - 5999 BLOCK OF GEORGIA AVENUE NW  397577.63  143785.94  ...   \n",
       "14365  3029 - 3299 BLOCK OF BUENA VISTA TERRACE SE  402985.66  131495.55  ...   \n",
       "14366       3100 - 3199 BLOCK OF SHERMAN AVENUE NW  397719.10  140159.55  ...   \n",
       "14367            717 - 797 BLOCK OF 46TH STREET SE  405588.10  134596.52  ...   \n",
       "14368                    1900 BLOCK OF D STREET SE  402061.00  135138.00  ...   \n",
       "\n",
       "       BLOCK_GROUP CENSUS_TRACT  VOTING_PRECINCT   LATITUDE  LONGITUDE  BID  \\\n",
       "14364     001901 1       1901.0      Precinct 58  38.961980 -77.027950  NaN   \n",
       "14365     007502 3       7502.0     Precinct 115  38.851262 -76.965604  NaN   \n",
       "14366     003100 1       3100.0      Precinct 38  38.929312 -77.026305  NaN   \n",
       "14367     007707 2       7707.0     Precinct 106  38.879184 -76.935598  NaN   \n",
       "14368     006804 1       6804.0      Precinct 80  38.884077 -76.976246  NaN   \n",
       "\n",
       "                   START_DATE                END_DATE   OBJECTID  \\\n",
       "14364  2024/07/10 01:33:00+00  2024/07/10 03:06:00+00  554231786   \n",
       "14365  2024/07/10 21:14:00+00  2024/07/10 21:33:00+00  554231788   \n",
       "14366  2024/07/10 16:00:00+00  2024/07/10 16:16:00+00  554231789   \n",
       "14367  2024/07/11 00:12:00+00  2024/07/11 00:21:00+00  554231790   \n",
       "14368  2024/03/06 13:00:00+00  2024/03/06 16:00:00+00  554231791   \n",
       "\n",
       "       OCTO_RECORD_ID  \n",
       "14364             NaN  \n",
       "14365             NaN  \n",
       "14366             NaN  \n",
       "14367             NaN  \n",
       "14368             NaN  \n",
       "\n",
       "[5 rows x 25 columns]"
      ]
     },
     "execution_count": 5,
     "metadata": {},
     "output_type": "execute_result"
    }
   ],
   "source": [
    "df.tail()"
   ]
  },
  {
   "cell_type": "code",
   "execution_count": 6,
   "metadata": {},
   "outputs": [
    {
     "data": {
      "text/plain": [
       "Index(['X', 'Y', 'CCN', 'REPORT_DAT', 'SHIFT', 'METHOD', 'OFFENSE', 'BLOCK',\n",
       "       'XBLOCK', 'YBLOCK', 'WARD', 'ANC', 'DISTRICT', 'PSA',\n",
       "       'NEIGHBORHOOD_CLUSTER', 'BLOCK_GROUP', 'CENSUS_TRACT',\n",
       "       'VOTING_PRECINCT', 'LATITUDE', 'LONGITUDE', 'BID', 'START_DATE',\n",
       "       'END_DATE', 'OBJECTID', 'OCTO_RECORD_ID'],\n",
       "      dtype='object')"
      ]
     },
     "execution_count": 6,
     "metadata": {},
     "output_type": "execute_result"
    }
   ],
   "source": [
    "df.columns"
   ]
  },
  {
   "cell_type": "markdown",
   "metadata": {},
   "source": [
    "##### 2. Data Cleaning"
   ]
  },
  {
   "cell_type": "code",
   "execution_count": 7,
   "metadata": {},
   "outputs": [],
   "source": [
    "df.columns = df.columns.str.lower()"
   ]
  },
  {
   "cell_type": "code",
   "execution_count": 8,
   "metadata": {},
   "outputs": [
    {
     "data": {
      "text/plain": [
       "Index(['x', 'y', 'ccn', 'report_dat', 'shift', 'method', 'offense', 'block',\n",
       "       'xblock', 'yblock', 'ward', 'anc', 'district', 'psa',\n",
       "       'neighborhood_cluster', 'block_group', 'census_tract',\n",
       "       'voting_precinct', 'latitude', 'longitude', 'bid', 'start_date',\n",
       "       'end_date', 'objectid', 'octo_record_id'],\n",
       "      dtype='object')"
      ]
     },
     "execution_count": 8,
     "metadata": {},
     "output_type": "execute_result"
    }
   ],
   "source": [
    "df.columns"
   ]
  },
  {
   "cell_type": "code",
   "execution_count": 9,
   "metadata": {},
   "outputs": [],
   "source": [
    "categorical = list(df.select_dtypes(include='O').columns)\n",
    "numerical = list(df.select_dtypes(exclude='O').columns)"
   ]
  },
  {
   "cell_type": "code",
   "execution_count": 10,
   "metadata": {},
   "outputs": [
    {
     "data": {
      "text/plain": [
       "Index(['report_dat', 'shift', 'method', 'offense', 'block', 'anc',\n",
       "       'neighborhood_cluster', 'block_group', 'voting_precinct', 'bid',\n",
       "       'start_date', 'end_date'],\n",
       "      dtype='object')"
      ]
     },
     "execution_count": 10,
     "metadata": {},
     "output_type": "execute_result"
    }
   ],
   "source": [
    "df[categorical].columns"
   ]
  },
  {
   "cell_type": "code",
   "execution_count": 11,
   "metadata": {},
   "outputs": [
    {
     "data": {
      "text/plain": [
       "Index(['x', 'y', 'ccn', 'xblock', 'yblock', 'ward', 'district', 'psa',\n",
       "       'census_tract', 'latitude', 'longitude', 'objectid', 'octo_record_id'],\n",
       "      dtype='object')"
      ]
     },
     "execution_count": 11,
     "metadata": {},
     "output_type": "execute_result"
    }
   ],
   "source": [
    "df[numerical].columns"
   ]
  },
  {
   "cell_type": "code",
   "execution_count": 12,
   "metadata": {},
   "outputs": [
    {
     "data": {
      "text/html": [
       "<div>\n",
       "<style scoped>\n",
       "    .dataframe tbody tr th:only-of-type {\n",
       "        vertical-align: middle;\n",
       "    }\n",
       "\n",
       "    .dataframe tbody tr th {\n",
       "        vertical-align: top;\n",
       "    }\n",
       "\n",
       "    .dataframe thead th {\n",
       "        text-align: right;\n",
       "    }\n",
       "</style>\n",
       "<table border=\"1\" class=\"dataframe\">\n",
       "  <thead>\n",
       "    <tr style=\"text-align: right;\">\n",
       "      <th></th>\n",
       "      <th>count</th>\n",
       "      <th>mean</th>\n",
       "      <th>std</th>\n",
       "      <th>min</th>\n",
       "      <th>25%</th>\n",
       "      <th>50%</th>\n",
       "      <th>75%</th>\n",
       "      <th>max</th>\n",
       "    </tr>\n",
       "  </thead>\n",
       "  <tbody>\n",
       "    <tr>\n",
       "      <th>x</th>\n",
       "      <td>14369.0</td>\n",
       "      <td>-7.700707e+01</td>\n",
       "      <td>0.034677</td>\n",
       "      <td>-7.711116e+01</td>\n",
       "      <td>-7.703122e+01</td>\n",
       "      <td>-7.700907e+01</td>\n",
       "      <td>-7.698471e+01</td>\n",
       "      <td>-7.691001e+01</td>\n",
       "    </tr>\n",
       "    <tr>\n",
       "      <th>y</th>\n",
       "      <td>14369.0</td>\n",
       "      <td>3.890791e+01</td>\n",
       "      <td>0.030399</td>\n",
       "      <td>3.881923e+01</td>\n",
       "      <td>3.889336e+01</td>\n",
       "      <td>3.890851e+01</td>\n",
       "      <td>3.892599e+01</td>\n",
       "      <td>3.899422e+01</td>\n",
       "    </tr>\n",
       "    <tr>\n",
       "      <th>ccn</th>\n",
       "      <td>14369.0</td>\n",
       "      <td>2.407610e+07</td>\n",
       "      <td>113425.979981</td>\n",
       "      <td>2.016018e+07</td>\n",
       "      <td>2.402637e+07</td>\n",
       "      <td>2.405759e+07</td>\n",
       "      <td>2.408593e+07</td>\n",
       "      <td>2.503097e+07</td>\n",
       "    </tr>\n",
       "    <tr>\n",
       "      <th>xblock</th>\n",
       "      <td>14369.0</td>\n",
       "      <td>3.993875e+05</td>\n",
       "      <td>3007.565453</td>\n",
       "      <td>3.903622e+05</td>\n",
       "      <td>3.972938e+05</td>\n",
       "      <td>3.992136e+05</td>\n",
       "      <td>4.013270e+05</td>\n",
       "      <td>4.078068e+05</td>\n",
       "    </tr>\n",
       "    <tr>\n",
       "      <th>yblock</th>\n",
       "      <td>14369.0</td>\n",
       "      <td>1.377836e+05</td>\n",
       "      <td>3374.635669</td>\n",
       "      <td>1.279385e+05</td>\n",
       "      <td>1.361684e+05</td>\n",
       "      <td>1.378496e+05</td>\n",
       "      <td>1.397902e+05</td>\n",
       "      <td>1.473650e+05</td>\n",
       "    </tr>\n",
       "    <tr>\n",
       "      <th>ward</th>\n",
       "      <td>14367.0</td>\n",
       "      <td>4.462588e+00</td>\n",
       "      <td>2.304709</td>\n",
       "      <td>1.000000e+00</td>\n",
       "      <td>2.000000e+00</td>\n",
       "      <td>5.000000e+00</td>\n",
       "      <td>6.000000e+00</td>\n",
       "      <td>8.000000e+00</td>\n",
       "    </tr>\n",
       "    <tr>\n",
       "      <th>district</th>\n",
       "      <td>14130.0</td>\n",
       "      <td>3.761500e+00</td>\n",
       "      <td>1.843365</td>\n",
       "      <td>1.000000e+00</td>\n",
       "      <td>2.000000e+00</td>\n",
       "      <td>4.000000e+00</td>\n",
       "      <td>5.000000e+00</td>\n",
       "      <td>7.000000e+00</td>\n",
       "    </tr>\n",
       "    <tr>\n",
       "      <th>psa</th>\n",
       "      <td>14118.0</td>\n",
       "      <td>3.807653e+02</td>\n",
       "      <td>183.991266</td>\n",
       "      <td>1.010000e+02</td>\n",
       "      <td>2.080000e+02</td>\n",
       "      <td>4.020000e+02</td>\n",
       "      <td>5.060000e+02</td>\n",
       "      <td>7.080000e+02</td>\n",
       "    </tr>\n",
       "    <tr>\n",
       "      <th>census_tract</th>\n",
       "      <td>14361.0</td>\n",
       "      <td>7.924151e+03</td>\n",
       "      <td>39061.856238</td>\n",
       "      <td>1.010000e+02</td>\n",
       "      <td>3.600000e+03</td>\n",
       "      <td>7.304000e+03</td>\n",
       "      <td>9.102000e+03</td>\n",
       "      <td>9.800000e+05</td>\n",
       "    </tr>\n",
       "    <tr>\n",
       "      <th>latitude</th>\n",
       "      <td>14369.0</td>\n",
       "      <td>3.890791e+01</td>\n",
       "      <td>0.030399</td>\n",
       "      <td>3.881922e+01</td>\n",
       "      <td>3.889335e+01</td>\n",
       "      <td>3.890850e+01</td>\n",
       "      <td>3.892598e+01</td>\n",
       "      <td>3.899422e+01</td>\n",
       "    </tr>\n",
       "    <tr>\n",
       "      <th>longitude</th>\n",
       "      <td>14369.0</td>\n",
       "      <td>-7.700707e+01</td>\n",
       "      <td>0.034677</td>\n",
       "      <td>-7.711116e+01</td>\n",
       "      <td>-7.703122e+01</td>\n",
       "      <td>-7.700907e+01</td>\n",
       "      <td>-7.698471e+01</td>\n",
       "      <td>-7.691001e+01</td>\n",
       "    </tr>\n",
       "    <tr>\n",
       "      <th>objectid</th>\n",
       "      <td>14369.0</td>\n",
       "      <td>5.540844e+08</td>\n",
       "      <td>111442.618177</td>\n",
       "      <td>5.536841e+08</td>\n",
       "      <td>5.540135e+08</td>\n",
       "      <td>5.540346e+08</td>\n",
       "      <td>5.541947e+08</td>\n",
       "      <td>5.542318e+08</td>\n",
       "    </tr>\n",
       "    <tr>\n",
       "      <th>octo_record_id</th>\n",
       "      <td>0.0</td>\n",
       "      <td>NaN</td>\n",
       "      <td>NaN</td>\n",
       "      <td>NaN</td>\n",
       "      <td>NaN</td>\n",
       "      <td>NaN</td>\n",
       "      <td>NaN</td>\n",
       "      <td>NaN</td>\n",
       "    </tr>\n",
       "  </tbody>\n",
       "</table>\n",
       "</div>"
      ],
      "text/plain": [
       "                  count          mean            std           min  \\\n",
       "x               14369.0 -7.700707e+01       0.034677 -7.711116e+01   \n",
       "y               14369.0  3.890791e+01       0.030399  3.881923e+01   \n",
       "ccn             14369.0  2.407610e+07  113425.979981  2.016018e+07   \n",
       "xblock          14369.0  3.993875e+05    3007.565453  3.903622e+05   \n",
       "yblock          14369.0  1.377836e+05    3374.635669  1.279385e+05   \n",
       "ward            14367.0  4.462588e+00       2.304709  1.000000e+00   \n",
       "district        14130.0  3.761500e+00       1.843365  1.000000e+00   \n",
       "psa             14118.0  3.807653e+02     183.991266  1.010000e+02   \n",
       "census_tract    14361.0  7.924151e+03   39061.856238  1.010000e+02   \n",
       "latitude        14369.0  3.890791e+01       0.030399  3.881922e+01   \n",
       "longitude       14369.0 -7.700707e+01       0.034677 -7.711116e+01   \n",
       "objectid        14369.0  5.540844e+08  111442.618177  5.536841e+08   \n",
       "octo_record_id      0.0           NaN            NaN           NaN   \n",
       "\n",
       "                         25%           50%           75%           max  \n",
       "x              -7.703122e+01 -7.700907e+01 -7.698471e+01 -7.691001e+01  \n",
       "y               3.889336e+01  3.890851e+01  3.892599e+01  3.899422e+01  \n",
       "ccn             2.402637e+07  2.405759e+07  2.408593e+07  2.503097e+07  \n",
       "xblock          3.972938e+05  3.992136e+05  4.013270e+05  4.078068e+05  \n",
       "yblock          1.361684e+05  1.378496e+05  1.397902e+05  1.473650e+05  \n",
       "ward            2.000000e+00  5.000000e+00  6.000000e+00  8.000000e+00  \n",
       "district        2.000000e+00  4.000000e+00  5.000000e+00  7.000000e+00  \n",
       "psa             2.080000e+02  4.020000e+02  5.060000e+02  7.080000e+02  \n",
       "census_tract    3.600000e+03  7.304000e+03  9.102000e+03  9.800000e+05  \n",
       "latitude        3.889335e+01  3.890850e+01  3.892598e+01  3.899422e+01  \n",
       "longitude      -7.703122e+01 -7.700907e+01 -7.698471e+01 -7.691001e+01  \n",
       "objectid        5.540135e+08  5.540346e+08  5.541947e+08  5.542318e+08  \n",
       "octo_record_id           NaN           NaN           NaN           NaN  "
      ]
     },
     "execution_count": 12,
     "metadata": {},
     "output_type": "execute_result"
    }
   ],
   "source": [
    "df[numerical].describe().T"
   ]
  },
  {
   "cell_type": "code",
   "execution_count": 13,
   "metadata": {},
   "outputs": [
    {
     "data": {
      "text/plain": [
       "x                           0\n",
       "y                           0\n",
       "ccn                         0\n",
       "report_dat                  0\n",
       "shift                       0\n",
       "method                      0\n",
       "offense                     0\n",
       "block                       0\n",
       "xblock                      0\n",
       "yblock                      0\n",
       "ward                        2\n",
       "anc                         2\n",
       "district                  239\n",
       "psa                       251\n",
       "neighborhood_cluster        2\n",
       "block_group                 8\n",
       "census_tract                8\n",
       "voting_precinct             2\n",
       "latitude                    0\n",
       "longitude                   0\n",
       "bid                     11777\n",
       "start_date                  3\n",
       "end_date                 1087\n",
       "objectid                    0\n",
       "octo_record_id          14369\n",
       "dtype: int64"
      ]
     },
     "execution_count": 13,
     "metadata": {},
     "output_type": "execute_result"
    }
   ],
   "source": [
    "df.isnull().sum()"
   ]
  },
  {
   "cell_type": "markdown",
   "metadata": {},
   "source": [
    "#### Insight:\n",
    "###### Features with large quantity of null values will be dropped\n",
    "###### For categorical features we will fill the null rows with mode or empty string"
   ]
  },
  {
   "cell_type": "code",
   "execution_count": 14,
   "metadata": {},
   "outputs": [
    {
     "data": {
      "text/plain": [
       "x                     0\n",
       "y                     0\n",
       "ccn                   0\n",
       "xblock                0\n",
       "yblock                0\n",
       "ward                  2\n",
       "district            239\n",
       "psa                 251\n",
       "census_tract          8\n",
       "latitude              0\n",
       "longitude             0\n",
       "objectid              0\n",
       "octo_record_id    14369\n",
       "dtype: int64"
      ]
     },
     "execution_count": 14,
     "metadata": {},
     "output_type": "execute_result"
    }
   ],
   "source": [
    "df[numerical].isnull().sum()"
   ]
  },
  {
   "cell_type": "markdown",
   "metadata": {},
   "source": [
    "##### Insight:\n",
    "###### 'ward','district','psa' and 'census_tract' null values will be filled with median values\n",
    "###### due to high volume of null values for 'octo_record_id' the feature will be dropped "
   ]
  },
  {
   "cell_type": "code",
   "execution_count": 15,
   "metadata": {},
   "outputs": [],
   "source": [
    "for col in ['ward','district','psa','census_tract']:\n",
    "    df[col].fillna(df[col].median(), inplace=True)"
   ]
  },
  {
   "cell_type": "code",
   "execution_count": 16,
   "metadata": {},
   "outputs": [],
   "source": [
    "# drop the 'octo_recod_id'\n",
    "df.drop(columns='octo_record_id', inplace=True)"
   ]
  },
  {
   "cell_type": "code",
   "execution_count": 17,
   "metadata": {},
   "outputs": [
    {
     "data": {
      "text/plain": [
       "(14369, 24)"
      ]
     },
     "execution_count": 17,
     "metadata": {},
     "output_type": "execute_result"
    }
   ],
   "source": [
    "df.shape"
   ]
  },
  {
   "cell_type": "code",
   "execution_count": 18,
   "metadata": {},
   "outputs": [
    {
     "data": {
      "text/plain": [
       "report_dat                  0\n",
       "shift                       0\n",
       "method                      0\n",
       "offense                     0\n",
       "block                       0\n",
       "anc                         2\n",
       "neighborhood_cluster        2\n",
       "block_group                 8\n",
       "voting_precinct             2\n",
       "bid                     11777\n",
       "start_date                  3\n",
       "end_date                 1087\n",
       "dtype: int64"
      ]
     },
     "execution_count": 18,
     "metadata": {},
     "output_type": "execute_result"
    }
   ],
   "source": [
    "df[categorical].isnull().sum()"
   ]
  },
  {
   "cell_type": "markdown",
   "metadata": {},
   "source": [
    "##### Insight:\n",
    "###### For the following features 'anc','neighborhood_cluster','block_group','voting_precinct', I will replace the null values with the mode of each feature\n",
    "###### Since 'bid' has large number of missing values, it will be dropped\n",
    "###### missing values of'start_date' and 'end_date' will be filled by the corresponding reported_date features"
   ]
  },
  {
   "cell_type": "code",
   "execution_count": 19,
   "metadata": {},
   "outputs": [],
   "source": [
    "for col in ['anc','neighborhood_cluster','block_group','voting_precinct']:\n",
    "    df[col].fillna(value=df[col].mode()[0], inplace=True)"
   ]
  },
  {
   "cell_type": "code",
   "execution_count": 20,
   "metadata": {},
   "outputs": [
    {
     "data": {
      "text/plain": [
       "x                           0\n",
       "y                           0\n",
       "ccn                         0\n",
       "report_dat                  0\n",
       "shift                       0\n",
       "method                      0\n",
       "offense                     0\n",
       "block                       0\n",
       "xblock                      0\n",
       "yblock                      0\n",
       "ward                        0\n",
       "anc                         0\n",
       "district                    0\n",
       "psa                         0\n",
       "neighborhood_cluster        0\n",
       "block_group                 0\n",
       "census_tract                0\n",
       "voting_precinct             0\n",
       "latitude                    0\n",
       "longitude                   0\n",
       "bid                     11777\n",
       "start_date                  3\n",
       "end_date                 1087\n",
       "objectid                    0\n",
       "dtype: int64"
      ]
     },
     "execution_count": 20,
     "metadata": {},
     "output_type": "execute_result"
    }
   ],
   "source": [
    "df.isnull().sum()"
   ]
  },
  {
   "cell_type": "code",
   "execution_count": 21,
   "metadata": {},
   "outputs": [],
   "source": [
    "# drop the bid feature\n",
    "df.drop(columns='bid', inplace=True)"
   ]
  },
  {
   "cell_type": "code",
   "execution_count": 22,
   "metadata": {},
   "outputs": [
    {
     "data": {
      "text/plain": [
       "(14369, 23)"
      ]
     },
     "execution_count": 22,
     "metadata": {},
     "output_type": "execute_result"
    }
   ],
   "source": [
    "df.shape"
   ]
  },
  {
   "cell_type": "code",
   "execution_count": 23,
   "metadata": {},
   "outputs": [
    {
     "data": {
      "text/plain": [
       "start_date\n",
       "2024/05/10 17:00:00+00    6\n",
       "2024/06/09 04:00:00+00    5\n",
       "2024/02/20 14:00:00+00    5\n",
       "2024/04/29 04:00:00+00    5\n",
       "2024/03/06 04:00:00+00    5\n",
       "                         ..\n",
       "2024/01/09 05:32:00+00    1\n",
       "2024/01/06 21:46:00+00    1\n",
       "2024/03/05 01:07:00+00    1\n",
       "2024/03/06 04:15:00+00    1\n",
       "2024/03/06 13:00:00+00    1\n",
       "Name: count, Length: 12999, dtype: int64"
      ]
     },
     "execution_count": 23,
     "metadata": {},
     "output_type": "execute_result"
    }
   ],
   "source": [
    "df.start_date.value_counts()"
   ]
  },
  {
   "cell_type": "code",
   "execution_count": 24,
   "metadata": {},
   "outputs": [
    {
     "data": {
      "text/html": [
       "<div>\n",
       "<style scoped>\n",
       "    .dataframe tbody tr th:only-of-type {\n",
       "        vertical-align: middle;\n",
       "    }\n",
       "\n",
       "    .dataframe tbody tr th {\n",
       "        vertical-align: top;\n",
       "    }\n",
       "\n",
       "    .dataframe thead th {\n",
       "        text-align: right;\n",
       "    }\n",
       "</style>\n",
       "<table border=\"1\" class=\"dataframe\">\n",
       "  <thead>\n",
       "    <tr style=\"text-align: right;\">\n",
       "      <th></th>\n",
       "      <th>x</th>\n",
       "      <th>y</th>\n",
       "      <th>ccn</th>\n",
       "      <th>report_dat</th>\n",
       "      <th>shift</th>\n",
       "      <th>method</th>\n",
       "      <th>offense</th>\n",
       "      <th>block</th>\n",
       "      <th>xblock</th>\n",
       "      <th>yblock</th>\n",
       "      <th>...</th>\n",
       "      <th>psa</th>\n",
       "      <th>neighborhood_cluster</th>\n",
       "      <th>block_group</th>\n",
       "      <th>census_tract</th>\n",
       "      <th>voting_precinct</th>\n",
       "      <th>latitude</th>\n",
       "      <th>longitude</th>\n",
       "      <th>start_date</th>\n",
       "      <th>end_date</th>\n",
       "      <th>objectid</th>\n",
       "    </tr>\n",
       "  </thead>\n",
       "  <tbody>\n",
       "    <tr>\n",
       "      <th>971</th>\n",
       "      <td>-77.029679</td>\n",
       "      <td>38.920507</td>\n",
       "      <td>24014779</td>\n",
       "      <td>2024/01/30 05:34:53+00</td>\n",
       "      <td>MIDNIGHT</td>\n",
       "      <td>OTHERS</td>\n",
       "      <td>MOTOR VEHICLE THEFT</td>\n",
       "      <td>13TH STREET NW AND FLORIDA AVENUE NW</td>\n",
       "      <td>397426.470012</td>\n",
       "      <td>139181.255295</td>\n",
       "      <td>...</td>\n",
       "      <td>304.0</td>\n",
       "      <td>Cluster 2</td>\n",
       "      <td>003600 1</td>\n",
       "      <td>3600.0</td>\n",
       "      <td>Precinct 23</td>\n",
       "      <td>38.920499</td>\n",
       "      <td>-77.029677</td>\n",
       "      <td>NaN</td>\n",
       "      <td>NaN</td>\n",
       "      <td>553990148</td>\n",
       "    </tr>\n",
       "    <tr>\n",
       "      <th>6449</th>\n",
       "      <td>-77.070024</td>\n",
       "      <td>38.955370</td>\n",
       "      <td>24089639</td>\n",
       "      <td>2024/06/13 03:01:05+00</td>\n",
       "      <td>MIDNIGHT</td>\n",
       "      <td>OTHERS</td>\n",
       "      <td>THEFT F/AUTO</td>\n",
       "      <td>5000 - 5099 BLOCK OF CONNECTICUT AVENUE NW</td>\n",
       "      <td>393930.750000</td>\n",
       "      <td>143053.270000</td>\n",
       "      <td>...</td>\n",
       "      <td>203.0</td>\n",
       "      <td>Cluster 10</td>\n",
       "      <td>001402 3</td>\n",
       "      <td>1402.0</td>\n",
       "      <td>Precinct 138</td>\n",
       "      <td>38.955362</td>\n",
       "      <td>-77.070022</td>\n",
       "      <td>NaN</td>\n",
       "      <td>NaN</td>\n",
       "      <td>554030872</td>\n",
       "    </tr>\n",
       "    <tr>\n",
       "      <th>10285</th>\n",
       "      <td>-76.981245</td>\n",
       "      <td>38.864261</td>\n",
       "      <td>24021001</td>\n",
       "      <td>2024/02/10 07:51:29+00</td>\n",
       "      <td>MIDNIGHT</td>\n",
       "      <td>OTHERS</td>\n",
       "      <td>ASSAULT W/DANGEROUS WEAPON</td>\n",
       "      <td>1600 - 1699 BLOCK OF V STREET SE</td>\n",
       "      <td>401627.936959</td>\n",
       "      <td>132937.326937</td>\n",
       "      <td>...</td>\n",
       "      <td>701.0</td>\n",
       "      <td>Cluster 28</td>\n",
       "      <td>007504 2</td>\n",
       "      <td>7504.0</td>\n",
       "      <td>Precinct 114</td>\n",
       "      <td>38.864253</td>\n",
       "      <td>-76.981242</td>\n",
       "      <td>NaN</td>\n",
       "      <td>NaN</td>\n",
       "      <td>554192716</td>\n",
       "    </tr>\n",
       "  </tbody>\n",
       "</table>\n",
       "<p>3 rows × 23 columns</p>\n",
       "</div>"
      ],
      "text/plain": [
       "               x          y       ccn              report_dat     shift  \\\n",
       "971   -77.029679  38.920507  24014779  2024/01/30 05:34:53+00  MIDNIGHT   \n",
       "6449  -77.070024  38.955370  24089639  2024/06/13 03:01:05+00  MIDNIGHT   \n",
       "10285 -76.981245  38.864261  24021001  2024/02/10 07:51:29+00  MIDNIGHT   \n",
       "\n",
       "       method                     offense  \\\n",
       "971    OTHERS         MOTOR VEHICLE THEFT   \n",
       "6449   OTHERS                THEFT F/AUTO   \n",
       "10285  OTHERS  ASSAULT W/DANGEROUS WEAPON   \n",
       "\n",
       "                                            block         xblock  \\\n",
       "971          13TH STREET NW AND FLORIDA AVENUE NW  397426.470012   \n",
       "6449   5000 - 5099 BLOCK OF CONNECTICUT AVENUE NW  393930.750000   \n",
       "10285            1600 - 1699 BLOCK OF V STREET SE  401627.936959   \n",
       "\n",
       "              yblock  ...    psa neighborhood_cluster  block_group  \\\n",
       "971    139181.255295  ...  304.0            Cluster 2     003600 1   \n",
       "6449   143053.270000  ...  203.0           Cluster 10     001402 3   \n",
       "10285  132937.326937  ...  701.0           Cluster 28     007504 2   \n",
       "\n",
       "       census_tract voting_precinct   latitude  longitude start_date  \\\n",
       "971          3600.0     Precinct 23  38.920499 -77.029677        NaN   \n",
       "6449         1402.0    Precinct 138  38.955362 -77.070022        NaN   \n",
       "10285        7504.0    Precinct 114  38.864253 -76.981242        NaN   \n",
       "\n",
       "       end_date   objectid  \n",
       "971         NaN  553990148  \n",
       "6449        NaN  554030872  \n",
       "10285       NaN  554192716  \n",
       "\n",
       "[3 rows x 23 columns]"
      ]
     },
     "execution_count": 24,
     "metadata": {},
     "output_type": "execute_result"
    }
   ],
   "source": [
    "df[df['start_date'].isnull()]"
   ]
  },
  {
   "cell_type": "code",
   "execution_count": 25,
   "metadata": {},
   "outputs": [
    {
     "data": {
      "text/plain": [
       "(14369, 23)"
      ]
     },
     "execution_count": 25,
     "metadata": {},
     "output_type": "execute_result"
    }
   ],
   "source": [
    "df.shape"
   ]
  },
  {
   "cell_type": "code",
   "execution_count": 26,
   "metadata": {},
   "outputs": [],
   "source": [
    "# fill the null value with corresponding report_dat value\n",
    "df['start_date'].fillna(value=df['report_dat'], inplace=True)"
   ]
  },
  {
   "cell_type": "code",
   "execution_count": 27,
   "metadata": {},
   "outputs": [
    {
     "data": {
      "text/plain": [
       "0"
      ]
     },
     "execution_count": 27,
     "metadata": {},
     "output_type": "execute_result"
    }
   ],
   "source": [
    "df.start_date.isnull().sum()"
   ]
  },
  {
   "cell_type": "code",
   "execution_count": 28,
   "metadata": {},
   "outputs": [],
   "source": [
    "# fill the null values with corresponding start_date values\n",
    "df['end_date'].fillna(value=df['start_date'], inplace=True)"
   ]
  },
  {
   "cell_type": "code",
   "execution_count": 29,
   "metadata": {},
   "outputs": [
    {
     "data": {
      "text/plain": [
       "0"
      ]
     },
     "execution_count": 29,
     "metadata": {},
     "output_type": "execute_result"
    }
   ],
   "source": [
    "df.end_date.isnull().sum()"
   ]
  },
  {
   "cell_type": "code",
   "execution_count": 30,
   "metadata": {},
   "outputs": [
    {
     "data": {
      "text/plain": [
       "x                       0\n",
       "y                       0\n",
       "ccn                     0\n",
       "report_dat              0\n",
       "shift                   0\n",
       "method                  0\n",
       "offense                 0\n",
       "block                   0\n",
       "xblock                  0\n",
       "yblock                  0\n",
       "ward                    0\n",
       "anc                     0\n",
       "district                0\n",
       "psa                     0\n",
       "neighborhood_cluster    0\n",
       "block_group             0\n",
       "census_tract            0\n",
       "voting_precinct         0\n",
       "latitude                0\n",
       "longitude               0\n",
       "start_date              0\n",
       "end_date                0\n",
       "objectid                0\n",
       "dtype: int64"
      ]
     },
     "execution_count": 30,
     "metadata": {},
     "output_type": "execute_result"
    }
   ],
   "source": [
    "df.isnull().sum()"
   ]
  },
  {
   "cell_type": "markdown",
   "metadata": {},
   "source": [
    "##### 3. EDA"
   ]
  },
  {
   "cell_type": "code",
   "execution_count": 31,
   "metadata": {},
   "outputs": [
    {
     "data": {
      "image/png": "[encoded data removed]",
      "text/plain": [
       "<Figure size 1200x800 with 1 Axes>"
      ]
     },
     "metadata": {},
     "output_type": "display_data"
    }
   ],
   "source": [
    "plt.figure(figsize=(12,8))\n",
    "plt.title(\"Offense\")\n",
    "ax = sns.countplot(data = df, y='offense',\n",
    "              order = df['offense'].value_counts().index)\n",
    "for container in ax.containers:\n",
    "    ax.bar_label(container)"
   ]
  },
  {
   "cell_type": "code",
   "execution_count": null,
   "metadata": {},
   "outputs": [],
   "source": []
  }
 ],
 "metadata": {
  "kernelspec": {
   "display_name": "Python 3",
   "language": "python",
   "name": "python3"
  },
  "language_info": {
   "codemirror_mode": {
    "name": "ipython",
    "version": 3
   },
   "file_extension": ".py",
   "mimetype": "text/x-python",
   "name": "python",
   "nbconvert_exporter": "python",
   "pygments_lexer": "ipython3",
   "version": "3.8.20"
  }
 },
 "nbformat": 4,
 "nbformat_minor": 2
}
