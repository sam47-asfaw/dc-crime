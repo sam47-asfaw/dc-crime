{
 "cells": [
  {
   "cell_type": "markdown",
   "metadata": {},
   "source": [
    "##### Problem Statement :Perform Exploratory Data Analysis on DC Crime to draw insights for model training\n",
    " "
   ]
  },
  {
   "cell_type": "code",
   "execution_count": 63,
   "metadata": {},
   "outputs": [],
   "source": [
    "import numpy as np\n",
    "import pandas as pd\n",
    "import matplotlib.pyplot as plt\n",
    "import seaborn as sns\n",
    "import missingno as msn\n",
    "import warnings\n",
    "warnings.filterwarnings('ignore')\n",
    "%matplotlib inline"
   ]
  },
  {
   "cell_type": "markdown",
   "metadata": {},
   "source": [
    "##### 1. Data Ingestion & Data Preparation\n",
    "###### Dataset origin: https://opendata.dc.gov/datasets/c5a9f33ffca546babbd91de1969e742d_6/explore\n",
    "###### Dataset includes data collected between Jan - Nov 2024"
   ]
  },
  {
   "cell_type": "code",
   "execution_count": 64,
   "metadata": {},
   "outputs": [
    {
     "name": "stdout",
     "output_type": "stream",
     "text": [
      "<class 'pandas.core.frame.DataFrame'>\n",
      "RangeIndex: 24535 entries, 0 to 24534\n",
      "Data columns (total 25 columns):\n",
      " #   Column                Non-Null Count  Dtype  \n",
      "---  ------                --------------  -----  \n",
      " 0   X                     24535 non-null  float64\n",
      " 1   Y                     24535 non-null  float64\n",
      " 2   CCN                   24535 non-null  int64  \n",
      " 3   REPORT_DAT            24535 non-null  object \n",
      " 4   SHIFT                 24535 non-null  object \n",
      " 5   METHOD                24535 non-null  object \n",
      " 6   OFFENSE               24535 non-null  object \n",
      " 7   BLOCK                 24535 non-null  object \n",
      " 8   XBLOCK                24535 non-null  float64\n",
      " 9   YBLOCK                24535 non-null  float64\n",
      " 10  WARD                  24531 non-null  float64\n",
      " 11  ANC                   24531 non-null  object \n",
      " 12  DISTRICT              24114 non-null  float64\n",
      " 13  PSA                   24119 non-null  float64\n",
      " 14  NEIGHBORHOOD_CLUSTER  24531 non-null  object \n",
      " 15  BLOCK_GROUP           24523 non-null  object \n",
      " 16  CENSUS_TRACT          24523 non-null  float64\n",
      " 17  VOTING_PRECINCT       24531 non-null  object \n",
      " 18  LATITUDE              24535 non-null  float64\n",
      " 19  LONGITUDE             24535 non-null  float64\n",
      " 20  BID                   4578 non-null   object \n",
      " 21  START_DATE            24530 non-null  object \n",
      " 22  END_DATE              22771 non-null  object \n",
      " 23  OBJECTID              24535 non-null  int64  \n",
      " 24  OCTO_RECORD_ID        0 non-null      float64\n",
      "dtypes: float64(11), int64(2), object(12)\n",
      "memory usage: 4.7+ MB\n"
     ]
    }
   ],
   "source": [
    "df = pd.read_csv('dc_crime_nov_2024.csv')\n",
    "df.info()"
   ]
  },
  {
   "cell_type": "code",
   "execution_count": 65,
   "metadata": {},
   "outputs": [
    {
     "data": {
      "text/plain": [
       "(24535, 25)"
      ]
     },
     "execution_count": 65,
     "metadata": {},
     "output_type": "execute_result"
    }
   ],
   "source": [
    "df.shape"
   ]
  },
  {
   "cell_type": "code",
   "execution_count": 66,
   "metadata": {},
   "outputs": [
    {
     "data": {
      "text/html": [
       "<div>\n",
       "<style scoped>\n",
       "    .dataframe tbody tr th:only-of-type {\n",
       "        vertical-align: middle;\n",
       "    }\n",
       "\n",
       "    .dataframe tbody tr th {\n",
       "        vertical-align: top;\n",
       "    }\n",
       "\n",
       "    .dataframe thead th {\n",
       "        text-align: right;\n",
       "    }\n",
       "</style>\n",
       "<table border=\"1\" class=\"dataframe\">\n",
       "  <thead>\n",
       "    <tr style=\"text-align: right;\">\n",
       "      <th></th>\n",
       "      <th>X</th>\n",
       "      <th>Y</th>\n",
       "      <th>CCN</th>\n",
       "      <th>REPORT_DAT</th>\n",
       "      <th>SHIFT</th>\n",
       "      <th>METHOD</th>\n",
       "      <th>OFFENSE</th>\n",
       "      <th>BLOCK</th>\n",
       "      <th>XBLOCK</th>\n",
       "      <th>YBLOCK</th>\n",
       "      <th>...</th>\n",
       "      <th>BLOCK_GROUP</th>\n",
       "      <th>CENSUS_TRACT</th>\n",
       "      <th>VOTING_PRECINCT</th>\n",
       "      <th>LATITUDE</th>\n",
       "      <th>LONGITUDE</th>\n",
       "      <th>BID</th>\n",
       "      <th>START_DATE</th>\n",
       "      <th>END_DATE</th>\n",
       "      <th>OBJECTID</th>\n",
       "      <th>OCTO_RECORD_ID</th>\n",
       "    </tr>\n",
       "  </thead>\n",
       "  <tbody>\n",
       "    <tr>\n",
       "      <th>0</th>\n",
       "      <td>400312.4400</td>\n",
       "      <td>142393.1900</td>\n",
       "      <td>24078668</td>\n",
       "      <td>2024/05/25 16:44:12+00</td>\n",
       "      <td>DAY</td>\n",
       "      <td>OTHERS</td>\n",
       "      <td>THEFT F/AUTO</td>\n",
       "      <td>700 - 742 BLOCK OF DELAFIELD STREET NE</td>\n",
       "      <td>400312.440000</td>\n",
       "      <td>142393.190000</td>\n",
       "      <td>...</td>\n",
       "      <td>009509 3</td>\n",
       "      <td>9509.0</td>\n",
       "      <td>Precinct 66</td>\n",
       "      <td>38.949437</td>\n",
       "      <td>-76.996396</td>\n",
       "      <td>NaN</td>\n",
       "      <td>2024/05/25 01:00:00+00</td>\n",
       "      <td>2024/05/25 11:00:00+00</td>\n",
       "      <td>618324226</td>\n",
       "      <td>NaN</td>\n",
       "    </tr>\n",
       "    <tr>\n",
       "      <th>1</th>\n",
       "      <td>405525.0541</td>\n",
       "      <td>136452.0801</td>\n",
       "      <td>24423683</td>\n",
       "      <td>2024/10/11 21:42:38+00</td>\n",
       "      <td>EVENING</td>\n",
       "      <td>OTHERS</td>\n",
       "      <td>THEFT/OTHER</td>\n",
       "      <td>4500 - 4599 BLOCK OF EADS PLACE NE</td>\n",
       "      <td>405525.054147</td>\n",
       "      <td>136452.080124</td>\n",
       "      <td>...</td>\n",
       "      <td>007803 2</td>\n",
       "      <td>7803.0</td>\n",
       "      <td>Precinct 98</td>\n",
       "      <td>38.895900</td>\n",
       "      <td>-76.936310</td>\n",
       "      <td>NaN</td>\n",
       "      <td>2024/09/24 17:31:00+00</td>\n",
       "      <td>2024/09/24 17:32:00+00</td>\n",
       "      <td>618324264</td>\n",
       "      <td>NaN</td>\n",
       "    </tr>\n",
       "    <tr>\n",
       "      <th>2</th>\n",
       "      <td>405106.8646</td>\n",
       "      <td>135146.1590</td>\n",
       "      <td>24067641</td>\n",
       "      <td>2024/05/06 06:29:53+00</td>\n",
       "      <td>MIDNIGHT</td>\n",
       "      <td>GUN</td>\n",
       "      <td>ROBBERY</td>\n",
       "      <td>4400 - 4499 BLOCK OF TEXAS AVENUE SE</td>\n",
       "      <td>405106.864611</td>\n",
       "      <td>135146.159035</td>\n",
       "      <td>...</td>\n",
       "      <td>007703 1</td>\n",
       "      <td>7703.0</td>\n",
       "      <td>Precinct 103</td>\n",
       "      <td>38.884138</td>\n",
       "      <td>-76.941140</td>\n",
       "      <td>NaN</td>\n",
       "      <td>2024/05/06 02:15:00+00</td>\n",
       "      <td>2024/05/06 04:49:00+00</td>\n",
       "      <td>618324276</td>\n",
       "      <td>NaN</td>\n",
       "    </tr>\n",
       "    <tr>\n",
       "      <th>3</th>\n",
       "      <td>394088.4600</td>\n",
       "      <td>138708.7200</td>\n",
       "      <td>24089539</td>\n",
       "      <td>2024/06/13 01:45:07+00</td>\n",
       "      <td>EVENING</td>\n",
       "      <td>OTHERS</td>\n",
       "      <td>THEFT/OTHER</td>\n",
       "      <td>1851 - 2008 BLOCK OF WISCONSIN AVENUE NW</td>\n",
       "      <td>394088.460000</td>\n",
       "      <td>138708.720000</td>\n",
       "      <td>...</td>\n",
       "      <td>000102 1</td>\n",
       "      <td>102.0</td>\n",
       "      <td>Precinct 5</td>\n",
       "      <td>38.916226</td>\n",
       "      <td>-77.068165</td>\n",
       "      <td>NaN</td>\n",
       "      <td>2024/06/12 22:15:00+00</td>\n",
       "      <td>2024/06/12 22:17:00+00</td>\n",
       "      <td>618324311</td>\n",
       "      <td>NaN</td>\n",
       "    </tr>\n",
       "    <tr>\n",
       "      <th>4</th>\n",
       "      <td>400432.5200</td>\n",
       "      <td>130639.2600</td>\n",
       "      <td>24160635</td>\n",
       "      <td>2024/10/17 02:34:47+00</td>\n",
       "      <td>EVENING</td>\n",
       "      <td>OTHERS</td>\n",
       "      <td>THEFT/OTHER</td>\n",
       "      <td>710 - 798 BLOCK OF ALABAMA AVENUE SE</td>\n",
       "      <td>400432.520000</td>\n",
       "      <td>130639.260000</td>\n",
       "      <td>...</td>\n",
       "      <td>009804 1</td>\n",
       "      <td>9804.0</td>\n",
       "      <td>Precinct 122</td>\n",
       "      <td>38.843553</td>\n",
       "      <td>-76.995018</td>\n",
       "      <td>NaN</td>\n",
       "      <td>2024/10/16 20:11:00+00</td>\n",
       "      <td>2024/10/16 21:22:00+00</td>\n",
       "      <td>618324322</td>\n",
       "      <td>NaN</td>\n",
       "    </tr>\n",
       "  </tbody>\n",
       "</table>\n",
       "<p>5 rows × 25 columns</p>\n",
       "</div>"
      ],
      "text/plain": [
       "             X            Y       CCN              REPORT_DAT     SHIFT  \\\n",
       "0  400312.4400  142393.1900  24078668  2024/05/25 16:44:12+00       DAY   \n",
       "1  405525.0541  136452.0801  24423683  2024/10/11 21:42:38+00   EVENING   \n",
       "2  405106.8646  135146.1590  24067641  2024/05/06 06:29:53+00  MIDNIGHT   \n",
       "3  394088.4600  138708.7200  24089539  2024/06/13 01:45:07+00   EVENING   \n",
       "4  400432.5200  130639.2600  24160635  2024/10/17 02:34:47+00   EVENING   \n",
       "\n",
       "   METHOD       OFFENSE                                     BLOCK  \\\n",
       "0  OTHERS  THEFT F/AUTO    700 - 742 BLOCK OF DELAFIELD STREET NE   \n",
       "1  OTHERS   THEFT/OTHER        4500 - 4599 BLOCK OF EADS PLACE NE   \n",
       "2     GUN       ROBBERY      4400 - 4499 BLOCK OF TEXAS AVENUE SE   \n",
       "3  OTHERS   THEFT/OTHER  1851 - 2008 BLOCK OF WISCONSIN AVENUE NW   \n",
       "4  OTHERS   THEFT/OTHER      710 - 798 BLOCK OF ALABAMA AVENUE SE   \n",
       "\n",
       "          XBLOCK         YBLOCK  ...  BLOCK_GROUP CENSUS_TRACT  \\\n",
       "0  400312.440000  142393.190000  ...     009509 3       9509.0   \n",
       "1  405525.054147  136452.080124  ...     007803 2       7803.0   \n",
       "2  405106.864611  135146.159035  ...     007703 1       7703.0   \n",
       "3  394088.460000  138708.720000  ...     000102 1        102.0   \n",
       "4  400432.520000  130639.260000  ...     009804 1       9804.0   \n",
       "\n",
       "   VOTING_PRECINCT   LATITUDE  LONGITUDE  BID              START_DATE  \\\n",
       "0      Precinct 66  38.949437 -76.996396  NaN  2024/05/25 01:00:00+00   \n",
       "1      Precinct 98  38.895900 -76.936310  NaN  2024/09/24 17:31:00+00   \n",
       "2     Precinct 103  38.884138 -76.941140  NaN  2024/05/06 02:15:00+00   \n",
       "3       Precinct 5  38.916226 -77.068165  NaN  2024/06/12 22:15:00+00   \n",
       "4     Precinct 122  38.843553 -76.995018  NaN  2024/10/16 20:11:00+00   \n",
       "\n",
       "                 END_DATE   OBJECTID  OCTO_RECORD_ID  \n",
       "0  2024/05/25 11:00:00+00  618324226             NaN  \n",
       "1  2024/09/24 17:32:00+00  618324264             NaN  \n",
       "2  2024/05/06 04:49:00+00  618324276             NaN  \n",
       "3  2024/06/12 22:17:00+00  618324311             NaN  \n",
       "4  2024/10/16 21:22:00+00  618324322             NaN  \n",
       "\n",
       "[5 rows x 25 columns]"
      ]
     },
     "execution_count": 66,
     "metadata": {},
     "output_type": "execute_result"
    }
   ],
   "source": [
    "df.head()"
   ]
  },
  {
   "cell_type": "code",
   "execution_count": 67,
   "metadata": {},
   "outputs": [
    {
     "data": {
      "text/html": [
       "<div>\n",
       "<style scoped>\n",
       "    .dataframe tbody tr th:only-of-type {\n",
       "        vertical-align: middle;\n",
       "    }\n",
       "\n",
       "    .dataframe tbody tr th {\n",
       "        vertical-align: top;\n",
       "    }\n",
       "\n",
       "    .dataframe thead th {\n",
       "        text-align: right;\n",
       "    }\n",
       "</style>\n",
       "<table border=\"1\" class=\"dataframe\">\n",
       "  <thead>\n",
       "    <tr style=\"text-align: right;\">\n",
       "      <th></th>\n",
       "      <th>X</th>\n",
       "      <th>Y</th>\n",
       "      <th>CCN</th>\n",
       "      <th>REPORT_DAT</th>\n",
       "      <th>SHIFT</th>\n",
       "      <th>METHOD</th>\n",
       "      <th>OFFENSE</th>\n",
       "      <th>BLOCK</th>\n",
       "      <th>XBLOCK</th>\n",
       "      <th>YBLOCK</th>\n",
       "      <th>...</th>\n",
       "      <th>BLOCK_GROUP</th>\n",
       "      <th>CENSUS_TRACT</th>\n",
       "      <th>VOTING_PRECINCT</th>\n",
       "      <th>LATITUDE</th>\n",
       "      <th>LONGITUDE</th>\n",
       "      <th>BID</th>\n",
       "      <th>START_DATE</th>\n",
       "      <th>END_DATE</th>\n",
       "      <th>OBJECTID</th>\n",
       "      <th>OCTO_RECORD_ID</th>\n",
       "    </tr>\n",
       "  </thead>\n",
       "  <tbody>\n",
       "    <tr>\n",
       "      <th>24530</th>\n",
       "      <td>396046.20</td>\n",
       "      <td>138387.65</td>\n",
       "      <td>24015980</td>\n",
       "      <td>2024/02/01 05:26:08+00</td>\n",
       "      <td>MIDNIGHT</td>\n",
       "      <td>OTHERS</td>\n",
       "      <td>THEFT/OTHER</td>\n",
       "      <td>1700 - 1799 BLOCK OF CONNECTICUT AVENUE NW</td>\n",
       "      <td>396046.200000</td>\n",
       "      <td>138387.650000</td>\n",
       "      <td>...</td>\n",
       "      <td>004202 2</td>\n",
       "      <td>4202.0</td>\n",
       "      <td>Precinct 14</td>\n",
       "      <td>38.913345</td>\n",
       "      <td>-77.045589</td>\n",
       "      <td>DUPONT CIRCLE</td>\n",
       "      <td>2024/02/01 03:52:00+00</td>\n",
       "      <td>2024/02/01 03:53:00+00</td>\n",
       "      <td>618881138</td>\n",
       "      <td>NaN</td>\n",
       "    </tr>\n",
       "    <tr>\n",
       "      <th>24531</th>\n",
       "      <td>396455.48</td>\n",
       "      <td>139555.85</td>\n",
       "      <td>24018602</td>\n",
       "      <td>2024/02/06 03:05:47+00</td>\n",
       "      <td>EVENING</td>\n",
       "      <td>OTHERS</td>\n",
       "      <td>THEFT/OTHER</td>\n",
       "      <td>1737 - 1776 BLOCK OF COLUMBIA ROAD NW</td>\n",
       "      <td>396455.480000</td>\n",
       "      <td>139555.850000</td>\n",
       "      <td>...</td>\n",
       "      <td>003901 2</td>\n",
       "      <td>3901.0</td>\n",
       "      <td>Precinct 35</td>\n",
       "      <td>38.923870</td>\n",
       "      <td>-77.040876</td>\n",
       "      <td>ADAMS MORGAN</td>\n",
       "      <td>2024/02/06 01:27:00+00</td>\n",
       "      <td>2024/02/06 01:35:00+00</td>\n",
       "      <td>618881139</td>\n",
       "      <td>NaN</td>\n",
       "    </tr>\n",
       "    <tr>\n",
       "      <th>24532</th>\n",
       "      <td>400687.19</td>\n",
       "      <td>137300.09</td>\n",
       "      <td>24021951</td>\n",
       "      <td>2024/02/12 04:20:28+00</td>\n",
       "      <td>MIDNIGHT</td>\n",
       "      <td>OTHERS</td>\n",
       "      <td>BURGLARY</td>\n",
       "      <td>1001 - 1100 BLOCK OF FLORIDA AVENUE NE</td>\n",
       "      <td>400687.190000</td>\n",
       "      <td>137300.090000</td>\n",
       "      <td>...</td>\n",
       "      <td>008802 3</td>\n",
       "      <td>8802.0</td>\n",
       "      <td>Precinct 77</td>\n",
       "      <td>38.903556</td>\n",
       "      <td>-76.992078</td>\n",
       "      <td>NaN</td>\n",
       "      <td>2024/02/12 00:57:00+00</td>\n",
       "      <td>2024/02/12 01:05:00+00</td>\n",
       "      <td>618881144</td>\n",
       "      <td>NaN</td>\n",
       "    </tr>\n",
       "    <tr>\n",
       "      <th>24533</th>\n",
       "      <td>398358.20</td>\n",
       "      <td>137185.34</td>\n",
       "      <td>24145015</td>\n",
       "      <td>2024/09/20 01:31:11+00</td>\n",
       "      <td>EVENING</td>\n",
       "      <td>OTHERS</td>\n",
       "      <td>THEFT/OTHER</td>\n",
       "      <td>5TH STREET NW AND K STREET NW</td>\n",
       "      <td>398358.199996</td>\n",
       "      <td>137185.339997</td>\n",
       "      <td>...</td>\n",
       "      <td>004703 2</td>\n",
       "      <td>4703.0</td>\n",
       "      <td>Precinct 1</td>\n",
       "      <td>38.902521</td>\n",
       "      <td>-77.018928</td>\n",
       "      <td>MOUNT VERNON TRIANGLE CID</td>\n",
       "      <td>2024/09/19 21:02:00+00</td>\n",
       "      <td>2024/09/19 21:30:00+00</td>\n",
       "      <td>618881146</td>\n",
       "      <td>NaN</td>\n",
       "    </tr>\n",
       "    <tr>\n",
       "      <th>24534</th>\n",
       "      <td>399823.20</td>\n",
       "      <td>136784.66</td>\n",
       "      <td>24145358</td>\n",
       "      <td>2024/09/20 14:24:08+00</td>\n",
       "      <td>DAY</td>\n",
       "      <td>OTHERS</td>\n",
       "      <td>THEFT F/AUTO</td>\n",
       "      <td>G STREET NE AND 3RD STREET NE</td>\n",
       "      <td>399823.199998</td>\n",
       "      <td>136784.659996</td>\n",
       "      <td>...</td>\n",
       "      <td>008301 1</td>\n",
       "      <td>8301.0</td>\n",
       "      <td>Precinct 83</td>\n",
       "      <td>38.898913</td>\n",
       "      <td>-77.002038</td>\n",
       "      <td>NaN</td>\n",
       "      <td>2024/09/20 13:30:00+00</td>\n",
       "      <td>2024/09/20 15:10:00+00</td>\n",
       "      <td>618881147</td>\n",
       "      <td>NaN</td>\n",
       "    </tr>\n",
       "  </tbody>\n",
       "</table>\n",
       "<p>5 rows × 25 columns</p>\n",
       "</div>"
      ],
      "text/plain": [
       "               X          Y       CCN              REPORT_DAT     SHIFT  \\\n",
       "24530  396046.20  138387.65  24015980  2024/02/01 05:26:08+00  MIDNIGHT   \n",
       "24531  396455.48  139555.85  24018602  2024/02/06 03:05:47+00   EVENING   \n",
       "24532  400687.19  137300.09  24021951  2024/02/12 04:20:28+00  MIDNIGHT   \n",
       "24533  398358.20  137185.34  24145015  2024/09/20 01:31:11+00   EVENING   \n",
       "24534  399823.20  136784.66  24145358  2024/09/20 14:24:08+00       DAY   \n",
       "\n",
       "       METHOD       OFFENSE                                       BLOCK  \\\n",
       "24530  OTHERS   THEFT/OTHER  1700 - 1799 BLOCK OF CONNECTICUT AVENUE NW   \n",
       "24531  OTHERS   THEFT/OTHER       1737 - 1776 BLOCK OF COLUMBIA ROAD NW   \n",
       "24532  OTHERS      BURGLARY      1001 - 1100 BLOCK OF FLORIDA AVENUE NE   \n",
       "24533  OTHERS   THEFT/OTHER               5TH STREET NW AND K STREET NW   \n",
       "24534  OTHERS  THEFT F/AUTO               G STREET NE AND 3RD STREET NE   \n",
       "\n",
       "              XBLOCK         YBLOCK  ...  BLOCK_GROUP CENSUS_TRACT  \\\n",
       "24530  396046.200000  138387.650000  ...     004202 2       4202.0   \n",
       "24531  396455.480000  139555.850000  ...     003901 2       3901.0   \n",
       "24532  400687.190000  137300.090000  ...     008802 3       8802.0   \n",
       "24533  398358.199996  137185.339997  ...     004703 2       4703.0   \n",
       "24534  399823.199998  136784.659996  ...     008301 1       8301.0   \n",
       "\n",
       "       VOTING_PRECINCT   LATITUDE  LONGITUDE                        BID  \\\n",
       "24530      Precinct 14  38.913345 -77.045589              DUPONT CIRCLE   \n",
       "24531      Precinct 35  38.923870 -77.040876               ADAMS MORGAN   \n",
       "24532      Precinct 77  38.903556 -76.992078                        NaN   \n",
       "24533       Precinct 1  38.902521 -77.018928  MOUNT VERNON TRIANGLE CID   \n",
       "24534      Precinct 83  38.898913 -77.002038                        NaN   \n",
       "\n",
       "                   START_DATE                END_DATE   OBJECTID  \\\n",
       "24530  2024/02/01 03:52:00+00  2024/02/01 03:53:00+00  618881138   \n",
       "24531  2024/02/06 01:27:00+00  2024/02/06 01:35:00+00  618881139   \n",
       "24532  2024/02/12 00:57:00+00  2024/02/12 01:05:00+00  618881144   \n",
       "24533  2024/09/19 21:02:00+00  2024/09/19 21:30:00+00  618881146   \n",
       "24534  2024/09/20 13:30:00+00  2024/09/20 15:10:00+00  618881147   \n",
       "\n",
       "       OCTO_RECORD_ID  \n",
       "24530             NaN  \n",
       "24531             NaN  \n",
       "24532             NaN  \n",
       "24533             NaN  \n",
       "24534             NaN  \n",
       "\n",
       "[5 rows x 25 columns]"
      ]
     },
     "execution_count": 67,
     "metadata": {},
     "output_type": "execute_result"
    }
   ],
   "source": [
    "df.tail()"
   ]
  },
  {
   "cell_type": "code",
   "execution_count": 68,
   "metadata": {},
   "outputs": [
    {
     "data": {
      "text/plain": [
       "Index(['X', 'Y', 'CCN', 'REPORT_DAT', 'SHIFT', 'METHOD', 'OFFENSE', 'BLOCK',\n",
       "       'XBLOCK', 'YBLOCK', 'WARD', 'ANC', 'DISTRICT', 'PSA',\n",
       "       'NEIGHBORHOOD_CLUSTER', 'BLOCK_GROUP', 'CENSUS_TRACT',\n",
       "       'VOTING_PRECINCT', 'LATITUDE', 'LONGITUDE', 'BID', 'START_DATE',\n",
       "       'END_DATE', 'OBJECTID', 'OCTO_RECORD_ID'],\n",
       "      dtype='object')"
      ]
     },
     "execution_count": 68,
     "metadata": {},
     "output_type": "execute_result"
    }
   ],
   "source": [
    "df.columns"
   ]
  },
  {
   "cell_type": "markdown",
   "metadata": {},
   "source": [
    "##### 2. Data Cleaning"
   ]
  },
  {
   "cell_type": "code",
   "execution_count": 69,
   "metadata": {},
   "outputs": [],
   "source": [
    "df.columns = df.columns.str.lower()"
   ]
  },
  {
   "cell_type": "code",
   "execution_count": 70,
   "metadata": {},
   "outputs": [
    {
     "data": {
      "text/plain": [
       "Index(['x', 'y', 'ccn', 'report_dat', 'shift', 'method', 'offense', 'block',\n",
       "       'xblock', 'yblock', 'ward', 'anc', 'district', 'psa',\n",
       "       'neighborhood_cluster', 'block_group', 'census_tract',\n",
       "       'voting_precinct', 'latitude', 'longitude', 'bid', 'start_date',\n",
       "       'end_date', 'objectid', 'octo_record_id'],\n",
       "      dtype='object')"
      ]
     },
     "execution_count": 70,
     "metadata": {},
     "output_type": "execute_result"
    }
   ],
   "source": [
    "df.columns"
   ]
  },
  {
   "cell_type": "code",
   "execution_count": 71,
   "metadata": {},
   "outputs": [],
   "source": [
    "categorical = list(df.select_dtypes(include='O').columns)\n",
    "numerical = list(df.select_dtypes(exclude='O').columns)"
   ]
  },
  {
   "cell_type": "code",
   "execution_count": 72,
   "metadata": {},
   "outputs": [
    {
     "data": {
      "text/plain": [
       "Index(['report_dat', 'shift', 'method', 'offense', 'block', 'anc',\n",
       "       'neighborhood_cluster', 'block_group', 'voting_precinct', 'bid',\n",
       "       'start_date', 'end_date'],\n",
       "      dtype='object')"
      ]
     },
     "execution_count": 72,
     "metadata": {},
     "output_type": "execute_result"
    }
   ],
   "source": [
    "df[categorical].columns"
   ]
  },
  {
   "cell_type": "code",
   "execution_count": 73,
   "metadata": {},
   "outputs": [
    {
     "data": {
      "text/plain": [
       "Index(['x', 'y', 'ccn', 'xblock', 'yblock', 'ward', 'district', 'psa',\n",
       "       'census_tract', 'latitude', 'longitude', 'objectid', 'octo_record_id'],\n",
       "      dtype='object')"
      ]
     },
     "execution_count": 73,
     "metadata": {},
     "output_type": "execute_result"
    }
   ],
   "source": [
    "df[numerical].columns"
   ]
  },
  {
   "cell_type": "code",
   "execution_count": 74,
   "metadata": {},
   "outputs": [
    {
     "data": {
      "text/html": [
       "<div>\n",
       "<style scoped>\n",
       "    .dataframe tbody tr th:only-of-type {\n",
       "        vertical-align: middle;\n",
       "    }\n",
       "\n",
       "    .dataframe tbody tr th {\n",
       "        vertical-align: top;\n",
       "    }\n",
       "\n",
       "    .dataframe thead th {\n",
       "        text-align: right;\n",
       "    }\n",
       "</style>\n",
       "<table border=\"1\" class=\"dataframe\">\n",
       "  <thead>\n",
       "    <tr style=\"text-align: right;\">\n",
       "      <th></th>\n",
       "      <th>count</th>\n",
       "      <th>mean</th>\n",
       "      <th>std</th>\n",
       "      <th>min</th>\n",
       "      <th>25%</th>\n",
       "      <th>50%</th>\n",
       "      <th>75%</th>\n",
       "      <th>max</th>\n",
       "    </tr>\n",
       "  </thead>\n",
       "  <tbody>\n",
       "    <tr>\n",
       "      <th>x</th>\n",
       "      <td>24535.0</td>\n",
       "      <td>3.993110e+05</td>\n",
       "      <td>3026.026605</td>\n",
       "      <td>3.903621e+05</td>\n",
       "      <td>3.972291e+05</td>\n",
       "      <td>3.990720e+05</td>\n",
       "      <td>4.012305e+05</td>\n",
       "      <td>4.078068e+05</td>\n",
       "    </tr>\n",
       "    <tr>\n",
       "      <th>y</th>\n",
       "      <td>24535.0</td>\n",
       "      <td>1.377669e+05</td>\n",
       "      <td>3357.597792</td>\n",
       "      <td>1.273002e+05</td>\n",
       "      <td>1.361684e+05</td>\n",
       "      <td>1.378467e+05</td>\n",
       "      <td>1.397509e+05</td>\n",
       "      <td>1.473650e+05</td>\n",
       "    </tr>\n",
       "    <tr>\n",
       "      <th>ccn</th>\n",
       "      <td>24535.0</td>\n",
       "      <td>2.411077e+07</td>\n",
       "      <td>168144.365966</td>\n",
       "      <td>5.094764e+06</td>\n",
       "      <td>2.404836e+07</td>\n",
       "      <td>2.409747e+07</td>\n",
       "      <td>2.414165e+07</td>\n",
       "      <td>2.503097e+07</td>\n",
       "    </tr>\n",
       "    <tr>\n",
       "      <th>xblock</th>\n",
       "      <td>24535.0</td>\n",
       "      <td>3.993110e+05</td>\n",
       "      <td>3026.026605</td>\n",
       "      <td>3.903622e+05</td>\n",
       "      <td>3.972291e+05</td>\n",
       "      <td>3.990720e+05</td>\n",
       "      <td>4.012305e+05</td>\n",
       "      <td>4.078068e+05</td>\n",
       "    </tr>\n",
       "    <tr>\n",
       "      <th>yblock</th>\n",
       "      <td>24535.0</td>\n",
       "      <td>1.377669e+05</td>\n",
       "      <td>3357.597791</td>\n",
       "      <td>1.273002e+05</td>\n",
       "      <td>1.361684e+05</td>\n",
       "      <td>1.378467e+05</td>\n",
       "      <td>1.397509e+05</td>\n",
       "      <td>1.473650e+05</td>\n",
       "    </tr>\n",
       "    <tr>\n",
       "      <th>ward</th>\n",
       "      <td>24531.0</td>\n",
       "      <td>4.411683e+00</td>\n",
       "      <td>2.325328</td>\n",
       "      <td>1.000000e+00</td>\n",
       "      <td>2.000000e+00</td>\n",
       "      <td>5.000000e+00</td>\n",
       "      <td>6.000000e+00</td>\n",
       "      <td>8.000000e+00</td>\n",
       "    </tr>\n",
       "    <tr>\n",
       "      <th>district</th>\n",
       "      <td>24114.0</td>\n",
       "      <td>3.714149e+00</td>\n",
       "      <td>1.848474</td>\n",
       "      <td>1.000000e+00</td>\n",
       "      <td>2.000000e+00</td>\n",
       "      <td>4.000000e+00</td>\n",
       "      <td>5.000000e+00</td>\n",
       "      <td>7.000000e+00</td>\n",
       "    </tr>\n",
       "    <tr>\n",
       "      <th>psa</th>\n",
       "      <td>24119.0</td>\n",
       "      <td>3.760931e+02</td>\n",
       "      <td>184.445508</td>\n",
       "      <td>1.010000e+02</td>\n",
       "      <td>2.070000e+02</td>\n",
       "      <td>4.010000e+02</td>\n",
       "      <td>5.060000e+02</td>\n",
       "      <td>7.080000e+02</td>\n",
       "    </tr>\n",
       "    <tr>\n",
       "      <th>census_tract</th>\n",
       "      <td>24523.0</td>\n",
       "      <td>7.622522e+03</td>\n",
       "      <td>35834.239535</td>\n",
       "      <td>1.010000e+02</td>\n",
       "      <td>3.500000e+03</td>\n",
       "      <td>7.203000e+03</td>\n",
       "      <td>9.102000e+03</td>\n",
       "      <td>9.800000e+05</td>\n",
       "    </tr>\n",
       "    <tr>\n",
       "      <th>latitude</th>\n",
       "      <td>24535.0</td>\n",
       "      <td>3.890776e+01</td>\n",
       "      <td>0.030245</td>\n",
       "      <td>3.881347e+01</td>\n",
       "      <td>3.889335e+01</td>\n",
       "      <td>3.890848e+01</td>\n",
       "      <td>3.892563e+01</td>\n",
       "      <td>3.899422e+01</td>\n",
       "    </tr>\n",
       "    <tr>\n",
       "      <th>longitude</th>\n",
       "      <td>24535.0</td>\n",
       "      <td>-7.700795e+01</td>\n",
       "      <td>0.034890</td>\n",
       "      <td>-7.711116e+01</td>\n",
       "      <td>-7.703195e+01</td>\n",
       "      <td>-7.701069e+01</td>\n",
       "      <td>-7.698581e+01</td>\n",
       "      <td>-7.691001e+01</td>\n",
       "    </tr>\n",
       "    <tr>\n",
       "      <th>objectid</th>\n",
       "      <td>24535.0</td>\n",
       "      <td>6.187352e+08</td>\n",
       "      <td>101430.879991</td>\n",
       "      <td>6.183242e+08</td>\n",
       "      <td>6.186568e+08</td>\n",
       "      <td>6.186720e+08</td>\n",
       "      <td>6.188396e+08</td>\n",
       "      <td>6.188811e+08</td>\n",
       "    </tr>\n",
       "    <tr>\n",
       "      <th>octo_record_id</th>\n",
       "      <td>0.0</td>\n",
       "      <td>NaN</td>\n",
       "      <td>NaN</td>\n",
       "      <td>NaN</td>\n",
       "      <td>NaN</td>\n",
       "      <td>NaN</td>\n",
       "      <td>NaN</td>\n",
       "      <td>NaN</td>\n",
       "    </tr>\n",
       "  </tbody>\n",
       "</table>\n",
       "</div>"
      ],
      "text/plain": [
       "                  count          mean            std           min  \\\n",
       "x               24535.0  3.993110e+05    3026.026605  3.903621e+05   \n",
       "y               24535.0  1.377669e+05    3357.597792  1.273002e+05   \n",
       "ccn             24535.0  2.411077e+07  168144.365966  5.094764e+06   \n",
       "xblock          24535.0  3.993110e+05    3026.026605  3.903622e+05   \n",
       "yblock          24535.0  1.377669e+05    3357.597791  1.273002e+05   \n",
       "ward            24531.0  4.411683e+00       2.325328  1.000000e+00   \n",
       "district        24114.0  3.714149e+00       1.848474  1.000000e+00   \n",
       "psa             24119.0  3.760931e+02     184.445508  1.010000e+02   \n",
       "census_tract    24523.0  7.622522e+03   35834.239535  1.010000e+02   \n",
       "latitude        24535.0  3.890776e+01       0.030245  3.881347e+01   \n",
       "longitude       24535.0 -7.700795e+01       0.034890 -7.711116e+01   \n",
       "objectid        24535.0  6.187352e+08  101430.879991  6.183242e+08   \n",
       "octo_record_id      0.0           NaN            NaN           NaN   \n",
       "\n",
       "                         25%           50%           75%           max  \n",
       "x               3.972291e+05  3.990720e+05  4.012305e+05  4.078068e+05  \n",
       "y               1.361684e+05  1.378467e+05  1.397509e+05  1.473650e+05  \n",
       "ccn             2.404836e+07  2.409747e+07  2.414165e+07  2.503097e+07  \n",
       "xblock          3.972291e+05  3.990720e+05  4.012305e+05  4.078068e+05  \n",
       "yblock          1.361684e+05  1.378467e+05  1.397509e+05  1.473650e+05  \n",
       "ward            2.000000e+00  5.000000e+00  6.000000e+00  8.000000e+00  \n",
       "district        2.000000e+00  4.000000e+00  5.000000e+00  7.000000e+00  \n",
       "psa             2.070000e+02  4.010000e+02  5.060000e+02  7.080000e+02  \n",
       "census_tract    3.500000e+03  7.203000e+03  9.102000e+03  9.800000e+05  \n",
       "latitude        3.889335e+01  3.890848e+01  3.892563e+01  3.899422e+01  \n",
       "longitude      -7.703195e+01 -7.701069e+01 -7.698581e+01 -7.691001e+01  \n",
       "objectid        6.186568e+08  6.186720e+08  6.188396e+08  6.188811e+08  \n",
       "octo_record_id           NaN           NaN           NaN           NaN  "
      ]
     },
     "execution_count": 74,
     "metadata": {},
     "output_type": "execute_result"
    }
   ],
   "source": [
    "df[numerical].describe().T"
   ]
  },
  {
   "cell_type": "code",
   "execution_count": 75,
   "metadata": {},
   "outputs": [
    {
     "data": {
      "text/plain": [
       "x                           0\n",
       "y                           0\n",
       "ccn                         0\n",
       "report_dat                  0\n",
       "shift                       0\n",
       "method                      0\n",
       "offense                     0\n",
       "block                       0\n",
       "xblock                      0\n",
       "yblock                      0\n",
       "ward                        4\n",
       "anc                         4\n",
       "district                  421\n",
       "psa                       416\n",
       "neighborhood_cluster        4\n",
       "block_group                12\n",
       "census_tract               12\n",
       "voting_precinct             4\n",
       "latitude                    0\n",
       "longitude                   0\n",
       "bid                     19957\n",
       "start_date                  5\n",
       "end_date                 1764\n",
       "objectid                    0\n",
       "octo_record_id          24535\n",
       "dtype: int64"
      ]
     },
     "execution_count": 75,
     "metadata": {},
     "output_type": "execute_result"
    }
   ],
   "source": [
    "df.isnull().sum()"
   ]
  },
  {
   "cell_type": "markdown",
   "metadata": {},
   "source": [
    "#### Insight:\n",
    "###### Features with large quantity of null values will be dropped\n",
    "###### For categorical features we will fill the null rows with mode or empty string"
   ]
  },
  {
   "cell_type": "code",
   "execution_count": 76,
   "metadata": {},
   "outputs": [
    {
     "data": {
      "text/plain": [
       "x                     0\n",
       "y                     0\n",
       "ccn                   0\n",
       "xblock                0\n",
       "yblock                0\n",
       "ward                  4\n",
       "district            421\n",
       "psa                 416\n",
       "census_tract         12\n",
       "latitude              0\n",
       "longitude             0\n",
       "objectid              0\n",
       "octo_record_id    24535\n",
       "dtype: int64"
      ]
     },
     "execution_count": 76,
     "metadata": {},
     "output_type": "execute_result"
    }
   ],
   "source": [
    "df[numerical].isnull().sum()"
   ]
  },
  {
   "cell_type": "markdown",
   "metadata": {},
   "source": [
    "##### Insight:\n",
    "###### 'ward','district','psa' and 'census_tract' null values will be filled with median values\n",
    "###### due to high volume of null values for 'octo_record_id' the feature will be dropped "
   ]
  },
  {
   "cell_type": "code",
   "execution_count": 77,
   "metadata": {},
   "outputs": [],
   "source": [
    "for col in ['ward','district','psa','census_tract']:\n",
    "    df[col].fillna(df[col].median(), inplace=True)"
   ]
  },
  {
   "cell_type": "code",
   "execution_count": 78,
   "metadata": {},
   "outputs": [],
   "source": [
    "# drop the 'octo_recod_id'\n",
    "df.drop(columns='octo_record_id', inplace=True)"
   ]
  },
  {
   "cell_type": "code",
   "execution_count": 79,
   "metadata": {},
   "outputs": [
    {
     "data": {
      "text/plain": [
       "(24535, 24)"
      ]
     },
     "execution_count": 79,
     "metadata": {},
     "output_type": "execute_result"
    }
   ],
   "source": [
    "df.shape"
   ]
  },
  {
   "cell_type": "code",
   "execution_count": 80,
   "metadata": {},
   "outputs": [
    {
     "data": {
      "text/plain": [
       "report_dat                  0\n",
       "shift                       0\n",
       "method                      0\n",
       "offense                     0\n",
       "block                       0\n",
       "anc                         4\n",
       "neighborhood_cluster        4\n",
       "block_group                12\n",
       "voting_precinct             4\n",
       "bid                     19957\n",
       "start_date                  5\n",
       "end_date                 1764\n",
       "dtype: int64"
      ]
     },
     "execution_count": 80,
     "metadata": {},
     "output_type": "execute_result"
    }
   ],
   "source": [
    "df[categorical].isnull().sum()"
   ]
  },
  {
   "cell_type": "markdown",
   "metadata": {},
   "source": [
    "##### Insight:\n",
    "###### For the following features 'anc','neighborhood_cluster','block_group','voting_precinct', I will replace the null values with the mode of each feature\n",
    "###### Since 'bid' has large number of missing values, it will be dropped\n",
    "###### missing values of'start_date' and 'end_date' will be filled by the corresponding reported_date feature"
   ]
  },
  {
   "cell_type": "code",
   "execution_count": 81,
   "metadata": {},
   "outputs": [],
   "source": [
    "for col in ['anc','neighborhood_cluster','block_group','voting_precinct']:\n",
    "    df[col].fillna(value=df[col].mode()[0], inplace=True)"
   ]
  },
  {
   "cell_type": "code",
   "execution_count": 82,
   "metadata": {},
   "outputs": [
    {
     "data": {
      "text/plain": [
       "x                           0\n",
       "y                           0\n",
       "ccn                         0\n",
       "report_dat                  0\n",
       "shift                       0\n",
       "method                      0\n",
       "offense                     0\n",
       "block                       0\n",
       "xblock                      0\n",
       "yblock                      0\n",
       "ward                        0\n",
       "anc                         0\n",
       "district                    0\n",
       "psa                         0\n",
       "neighborhood_cluster        0\n",
       "block_group                 0\n",
       "census_tract                0\n",
       "voting_precinct             0\n",
       "latitude                    0\n",
       "longitude                   0\n",
       "bid                     19957\n",
       "start_date                  5\n",
       "end_date                 1764\n",
       "objectid                    0\n",
       "dtype: int64"
      ]
     },
     "execution_count": 82,
     "metadata": {},
     "output_type": "execute_result"
    }
   ],
   "source": [
    "df.isnull().sum()"
   ]
  },
  {
   "cell_type": "code",
   "execution_count": 83,
   "metadata": {},
   "outputs": [],
   "source": [
    "# drop the bid feature\n",
    "df.drop(columns='bid', inplace=True)"
   ]
  },
  {
   "cell_type": "code",
   "execution_count": 84,
   "metadata": {},
   "outputs": [
    {
     "data": {
      "text/plain": [
       "(24535, 23)"
      ]
     },
     "execution_count": 84,
     "metadata": {},
     "output_type": "execute_result"
    }
   ],
   "source": [
    "df.shape"
   ]
  },
  {
   "cell_type": "code",
   "execution_count": 85,
   "metadata": {},
   "outputs": [
    {
     "data": {
      "text/plain": [
       "start_date\n",
       "2024/05/10 17:00:00+00    6\n",
       "2024/10/18 21:00:00+00    6\n",
       "2024/10/10 23:00:00+00    6\n",
       "2024/06/09 04:00:00+00    5\n",
       "2024/05/31 04:00:00+00    5\n",
       "                         ..\n",
       "2024/07/27 16:13:00+00    1\n",
       "2024/07/27 00:00:00+00    1\n",
       "2024/07/27 02:22:00+00    1\n",
       "2024/07/25 22:39:00+00    1\n",
       "2024/09/20 13:30:00+00    1\n",
       "Name: count, Length: 22091, dtype: int64"
      ]
     },
     "execution_count": 85,
     "metadata": {},
     "output_type": "execute_result"
    }
   ],
   "source": [
    "df.start_date.value_counts()"
   ]
  },
  {
   "cell_type": "code",
   "execution_count": 86,
   "metadata": {},
   "outputs": [
    {
     "data": {
      "text/html": [
       "<div>\n",
       "<style scoped>\n",
       "    .dataframe tbody tr th:only-of-type {\n",
       "        vertical-align: middle;\n",
       "    }\n",
       "\n",
       "    .dataframe tbody tr th {\n",
       "        vertical-align: top;\n",
       "    }\n",
       "\n",
       "    .dataframe thead th {\n",
       "        text-align: right;\n",
       "    }\n",
       "</style>\n",
       "<table border=\"1\" class=\"dataframe\">\n",
       "  <thead>\n",
       "    <tr style=\"text-align: right;\">\n",
       "      <th></th>\n",
       "      <th>x</th>\n",
       "      <th>y</th>\n",
       "      <th>ccn</th>\n",
       "      <th>report_dat</th>\n",
       "      <th>shift</th>\n",
       "      <th>method</th>\n",
       "      <th>offense</th>\n",
       "      <th>block</th>\n",
       "      <th>xblock</th>\n",
       "      <th>yblock</th>\n",
       "      <th>...</th>\n",
       "      <th>psa</th>\n",
       "      <th>neighborhood_cluster</th>\n",
       "      <th>block_group</th>\n",
       "      <th>census_tract</th>\n",
       "      <th>voting_precinct</th>\n",
       "      <th>latitude</th>\n",
       "      <th>longitude</th>\n",
       "      <th>start_date</th>\n",
       "      <th>end_date</th>\n",
       "      <th>objectid</th>\n",
       "    </tr>\n",
       "  </thead>\n",
       "  <tbody>\n",
       "    <tr>\n",
       "      <th>4913</th>\n",
       "      <td>399162.790</td>\n",
       "      <td>137319.7000</td>\n",
       "      <td>24153130</td>\n",
       "      <td>2024/10/03 16:50:51+00</td>\n",
       "      <td>DAY</td>\n",
       "      <td>OTHERS</td>\n",
       "      <td>THEFT/OTHER</td>\n",
       "      <td>1 - 39 BLOCK OF L STREET NW</td>\n",
       "      <td>399162.790000</td>\n",
       "      <td>137319.700000</td>\n",
       "      <td>...</td>\n",
       "      <td>102.0</td>\n",
       "      <td>Cluster 8</td>\n",
       "      <td>004704 1</td>\n",
       "      <td>4704.0</td>\n",
       "      <td>Precinct 1</td>\n",
       "      <td>38.903733</td>\n",
       "      <td>-77.009652</td>\n",
       "      <td>NaN</td>\n",
       "      <td>NaN</td>\n",
       "      <td>618647552</td>\n",
       "    </tr>\n",
       "    <tr>\n",
       "      <th>8579</th>\n",
       "      <td>397229.120</td>\n",
       "      <td>138854.5400</td>\n",
       "      <td>24170758</td>\n",
       "      <td>2024/11/03 05:21:58+00</td>\n",
       "      <td>MIDNIGHT</td>\n",
       "      <td>OTHERS</td>\n",
       "      <td>MOTOR VEHICLE THEFT</td>\n",
       "      <td>2000 - 2099 BLOCK OF 14TH STREET NW</td>\n",
       "      <td>397229.120000</td>\n",
       "      <td>138854.540000</td>\n",
       "      <td>...</td>\n",
       "      <td>305.0</td>\n",
       "      <td>Cluster 3</td>\n",
       "      <td>004401 2</td>\n",
       "      <td>4401.0</td>\n",
       "      <td>Precinct 22</td>\n",
       "      <td>38.917555</td>\n",
       "      <td>-77.031951</td>\n",
       "      <td>NaN</td>\n",
       "      <td>NaN</td>\n",
       "      <td>618663495</td>\n",
       "    </tr>\n",
       "    <tr>\n",
       "      <th>11642</th>\n",
       "      <td>401627.937</td>\n",
       "      <td>132937.3269</td>\n",
       "      <td>24021001</td>\n",
       "      <td>2024/02/10 07:51:29+00</td>\n",
       "      <td>MIDNIGHT</td>\n",
       "      <td>OTHERS</td>\n",
       "      <td>ASSAULT W/DANGEROUS WEAPON</td>\n",
       "      <td>1600 - 1699 BLOCK OF V STREET SE</td>\n",
       "      <td>401627.936959</td>\n",
       "      <td>132937.326937</td>\n",
       "      <td>...</td>\n",
       "      <td>701.0</td>\n",
       "      <td>Cluster 28</td>\n",
       "      <td>007504 2</td>\n",
       "      <td>7504.0</td>\n",
       "      <td>Precinct 114</td>\n",
       "      <td>38.864253</td>\n",
       "      <td>-76.981242</td>\n",
       "      <td>NaN</td>\n",
       "      <td>NaN</td>\n",
       "      <td>618669516</td>\n",
       "    </tr>\n",
       "    <tr>\n",
       "      <th>12081</th>\n",
       "      <td>393930.750</td>\n",
       "      <td>143053.2700</td>\n",
       "      <td>24089639</td>\n",
       "      <td>2024/06/13 03:01:05+00</td>\n",
       "      <td>MIDNIGHT</td>\n",
       "      <td>OTHERS</td>\n",
       "      <td>THEFT F/AUTO</td>\n",
       "      <td>5000 - 5099 BLOCK OF CONNECTICUT AVENUE NW</td>\n",
       "      <td>393930.750000</td>\n",
       "      <td>143053.270000</td>\n",
       "      <td>...</td>\n",
       "      <td>203.0</td>\n",
       "      <td>Cluster 10</td>\n",
       "      <td>001402 3</td>\n",
       "      <td>1402.0</td>\n",
       "      <td>Precinct 138</td>\n",
       "      <td>38.955362</td>\n",
       "      <td>-77.070022</td>\n",
       "      <td>NaN</td>\n",
       "      <td>NaN</td>\n",
       "      <td>618671306</td>\n",
       "    </tr>\n",
       "    <tr>\n",
       "      <th>20392</th>\n",
       "      <td>397426.470</td>\n",
       "      <td>139181.2553</td>\n",
       "      <td>24014779</td>\n",
       "      <td>2024/01/30 05:34:53+00</td>\n",
       "      <td>MIDNIGHT</td>\n",
       "      <td>OTHERS</td>\n",
       "      <td>MOTOR VEHICLE THEFT</td>\n",
       "      <td>13TH STREET NW AND FLORIDA AVENUE NW</td>\n",
       "      <td>397426.470012</td>\n",
       "      <td>139181.255295</td>\n",
       "      <td>...</td>\n",
       "      <td>304.0</td>\n",
       "      <td>Cluster 2</td>\n",
       "      <td>003600 1</td>\n",
       "      <td>3600.0</td>\n",
       "      <td>Precinct 23</td>\n",
       "      <td>38.920499</td>\n",
       "      <td>-77.029677</td>\n",
       "      <td>NaN</td>\n",
       "      <td>NaN</td>\n",
       "      <td>618858321</td>\n",
       "    </tr>\n",
       "  </tbody>\n",
       "</table>\n",
       "<p>5 rows × 23 columns</p>\n",
       "</div>"
      ],
      "text/plain": [
       "                x            y       ccn              report_dat     shift  \\\n",
       "4913   399162.790  137319.7000  24153130  2024/10/03 16:50:51+00       DAY   \n",
       "8579   397229.120  138854.5400  24170758  2024/11/03 05:21:58+00  MIDNIGHT   \n",
       "11642  401627.937  132937.3269  24021001  2024/02/10 07:51:29+00  MIDNIGHT   \n",
       "12081  393930.750  143053.2700  24089639  2024/06/13 03:01:05+00  MIDNIGHT   \n",
       "20392  397426.470  139181.2553  24014779  2024/01/30 05:34:53+00  MIDNIGHT   \n",
       "\n",
       "       method                     offense  \\\n",
       "4913   OTHERS                 THEFT/OTHER   \n",
       "8579   OTHERS         MOTOR VEHICLE THEFT   \n",
       "11642  OTHERS  ASSAULT W/DANGEROUS WEAPON   \n",
       "12081  OTHERS                THEFT F/AUTO   \n",
       "20392  OTHERS         MOTOR VEHICLE THEFT   \n",
       "\n",
       "                                            block         xblock  \\\n",
       "4913                  1 - 39 BLOCK OF L STREET NW  399162.790000   \n",
       "8579          2000 - 2099 BLOCK OF 14TH STREET NW  397229.120000   \n",
       "11642            1600 - 1699 BLOCK OF V STREET SE  401627.936959   \n",
       "12081  5000 - 5099 BLOCK OF CONNECTICUT AVENUE NW  393930.750000   \n",
       "20392        13TH STREET NW AND FLORIDA AVENUE NW  397426.470012   \n",
       "\n",
       "              yblock  ...    psa neighborhood_cluster  block_group  \\\n",
       "4913   137319.700000  ...  102.0            Cluster 8     004704 1   \n",
       "8579   138854.540000  ...  305.0            Cluster 3     004401 2   \n",
       "11642  132937.326937  ...  701.0           Cluster 28     007504 2   \n",
       "12081  143053.270000  ...  203.0           Cluster 10     001402 3   \n",
       "20392  139181.255295  ...  304.0            Cluster 2     003600 1   \n",
       "\n",
       "       census_tract voting_precinct   latitude  longitude start_date  \\\n",
       "4913         4704.0      Precinct 1  38.903733 -77.009652        NaN   \n",
       "8579         4401.0     Precinct 22  38.917555 -77.031951        NaN   \n",
       "11642        7504.0    Precinct 114  38.864253 -76.981242        NaN   \n",
       "12081        1402.0    Precinct 138  38.955362 -77.070022        NaN   \n",
       "20392        3600.0     Precinct 23  38.920499 -77.029677        NaN   \n",
       "\n",
       "       end_date   objectid  \n",
       "4913        NaN  618647552  \n",
       "8579        NaN  618663495  \n",
       "11642       NaN  618669516  \n",
       "12081       NaN  618671306  \n",
       "20392       NaN  618858321  \n",
       "\n",
       "[5 rows x 23 columns]"
      ]
     },
     "execution_count": 86,
     "metadata": {},
     "output_type": "execute_result"
    }
   ],
   "source": [
    "df[df['start_date'].isnull()]"
   ]
  },
  {
   "cell_type": "code",
   "execution_count": 87,
   "metadata": {},
   "outputs": [
    {
     "data": {
      "text/plain": [
       "(24535, 23)"
      ]
     },
     "execution_count": 87,
     "metadata": {},
     "output_type": "execute_result"
    }
   ],
   "source": [
    "df.shape"
   ]
  },
  {
   "cell_type": "code",
   "execution_count": null,
   "metadata": {},
   "outputs": [],
   "source": [
    "# fill the null value with corresponding report_dat value\n",
    "df['start_date'].fillna(value=df['report_dat'], inplace=True)"
   ]
  },
  {
   "cell_type": "code",
   "execution_count": 89,
   "metadata": {},
   "outputs": [
    {
     "data": {
      "text/plain": [
       "0"
      ]
     },
     "execution_count": 89,
     "metadata": {},
     "output_type": "execute_result"
    }
   ],
   "source": [
    "df.start_date.isnull().sum()"
   ]
  },
  {
   "cell_type": "code",
   "execution_count": 90,
   "metadata": {},
   "outputs": [],
   "source": [
    "# fill the null values with corresponding start_date values\n",
    "df['end_date'].fillna(value=df['start_date'], inplace=True)"
   ]
  },
  {
   "cell_type": "code",
   "execution_count": 91,
   "metadata": {},
   "outputs": [
    {
     "data": {
      "text/plain": [
       "0"
      ]
     },
     "execution_count": 91,
     "metadata": {},
     "output_type": "execute_result"
    }
   ],
   "source": [
    "df.end_date.isnull().sum()"
   ]
  },
  {
   "cell_type": "code",
   "execution_count": 92,
   "metadata": {},
   "outputs": [
    {
     "data": {
      "text/plain": [
       "x                       0\n",
       "y                       0\n",
       "ccn                     0\n",
       "report_dat              0\n",
       "shift                   0\n",
       "method                  0\n",
       "offense                 0\n",
       "block                   0\n",
       "xblock                  0\n",
       "yblock                  0\n",
       "ward                    0\n",
       "anc                     0\n",
       "district                0\n",
       "psa                     0\n",
       "neighborhood_cluster    0\n",
       "block_group             0\n",
       "census_tract            0\n",
       "voting_precinct         0\n",
       "latitude                0\n",
       "longitude               0\n",
       "start_date              0\n",
       "end_date                0\n",
       "objectid                0\n",
       "dtype: int64"
      ]
     },
     "execution_count": 92,
     "metadata": {},
     "output_type": "execute_result"
    }
   ],
   "source": [
    "df.isnull().sum()"
   ]
  },
  {
   "cell_type": "markdown",
   "metadata": {},
   "source": [
    "##### 3. EDA"
   ]
  },
  {
   "cell_type": "code",
   "execution_count": 93,
   "metadata": {},
   "outputs": [
    {
     "data": {
      "image/png": "[encoded data removed]",
      "text/plain": [
       "<Figure size 1200x800 with 1 Axes>"
      ]
     },
     "metadata": {},
     "output_type": "display_data"
    }
   ],
   "source": [
    "plt.figure(figsize=(12,8))\n",
    "plt.title(\"Offense\")\n",
    "ax = sns.countplot(data = df, y='offense',\n",
    "              order = df['offense'].value_counts().index)\n",
    "for container in ax.containers:\n",
    "    ax.bar_label(container)"
   ]
  },
  {
   "cell_type": "markdown",
   "metadata": {},
   "source": [
    "##### Insight: We see that Theft(other/auto and motor vehicle) is the most frequent crime commited in dc, which is inline with other American states."
   ]
  },
  {
   "cell_type": "code",
   "execution_count": 95,
   "metadata": {},
   "outputs": [
    {
     "data": {
      "image/png": "[encoded data removed]",
      "text/plain": [
       "<Figure size 1200x800 with 1 Axes>"
      ]
     },
     "metadata": {},
     "output_type": "display_data"
    }
   ],
   "source": [
    "plt.figure(figsize=(12,8))\n",
    "plt.title(\"Method of Crime\")\n",
    "ax = sns.countplot(data = df, y='method',\n",
    "              order = df['method'].value_counts().index)\n",
    "for container in ax.containers:\n",
    "    ax.bar_label(container)"
   ]
  },
  {
   "cell_type": "markdown",
   "metadata": {},
   "source": [
    "##### Insight:\n",
    "###### 1. Majority of the crimes committed did not involve the use of guns or knives\n",
    "###### 1. Guns are more likely to be used than knives during crimes\n"
   ]
  },
  {
   "cell_type": "code",
   "execution_count": 98,
   "metadata": {},
   "outputs": [
    {
     "data": {
      "image/png": "[encoded data removed]",
      "text/plain": [
       "<Figure size 1200x1500 with 1 Axes>"
      ]
     },
     "metadata": {},
     "output_type": "display_data"
    }
   ],
   "source": [
    "plt.figure(figsize=(12,15))\n",
    "plt.title(\"Method of Crime vs Type of Offense\")\n",
    "ax = sns.countplot(data = df, y= df['offense'], hue=df['method'])\n",
    "for container in ax.containers:\n",
    "    ax.bar_label(container)"
   ]
  },
  {
   "cell_type": "markdown",
   "metadata": {},
   "source": [
    "##### Insight:\n",
    "###### 1. Serious crimes (Robbery, Assault with dangerous weapon and homicide) mostly involved the use of guns\n",
    "###### 2. Less serious crimes such as Theft did not involve neither guns nor knives"
   ]
  }
 ],
 "metadata": {
  "kernelspec": {
   "display_name": "Python 3",
   "language": "python",
   "name": "python3"
  },
  "language_info": {
   "codemirror_mode": {
    "name": "ipython",
    "version": 3
   },
   "file_extension": ".py",
   "mimetype": "text/x-python",
   "name": "python",
   "nbconvert_exporter": "python",
   "pygments_lexer": "ipython3",
   "version": "3.8.20"
  }
 },
 "nbformat": 4,
 "nbformat_minor": 2
}
