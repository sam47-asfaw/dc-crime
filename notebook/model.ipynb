{
 "cells": [
  {
   "cell_type": "markdown",
   "metadata": {},
   "source": [
    "#### Problem Statement: Predicting the probability of crimes in District of Columbia."
   ]
  },
  {
   "cell_type": "code",
   "execution_count": 1,
   "metadata": {},
   "outputs": [],
   "source": [
    "import pandas as pd\n",
    "import numpy as np\n",
    "import matplotlib.pyplot as plt\n",
    "import seaborn as sns\n",
    "import warnings\n",
    "warnings.filterwarnings('ignore')\n",
    "%matplotlib inline\n",
    "\n",
    "import mlflow\n",
    "import lightgbm\n",
    "import catboost\n",
    "from sklearn.model_selection import train_test_split"
   ]
  },
  {
   "cell_type": "code",
   "execution_count": 3,
   "metadata": {},
   "outputs": [],
   "source": [
    "df = pd.read_csv('cleaned_dc_crime.csv')"
   ]
  },
  {
   "cell_type": "code",
   "execution_count": 4,
   "metadata": {},
   "outputs": [
    {
     "name": "stdout",
     "output_type": "stream",
     "text": [
      "<class 'pandas.core.frame.DataFrame'>\n",
      "RangeIndex: 24535 entries, 0 to 24534\n",
      "Data columns (total 23 columns):\n",
      " #   Column                Non-Null Count  Dtype  \n",
      "---  ------                --------------  -----  \n",
      " 0   x                     24535 non-null  float64\n",
      " 1   y                     24535 non-null  float64\n",
      " 2   ccn                   24535 non-null  int64  \n",
      " 3   report_dat            24535 non-null  object \n",
      " 4   shift                 24535 non-null  object \n",
      " 5   method                24535 non-null  object \n",
      " 6   offense               24535 non-null  object \n",
      " 7   block                 24535 non-null  object \n",
      " 8   xblock                24535 non-null  float64\n",
      " 9   yblock                24535 non-null  float64\n",
      " 10  ward                  24535 non-null  float64\n",
      " 11  anc                   24535 non-null  object \n",
      " 12  district              24535 non-null  float64\n",
      " 13  psa                   24535 non-null  float64\n",
      " 14  neighborhood_cluster  24535 non-null  object \n",
      " 15  block_group           24535 non-null  object \n",
      " 16  census_tract          24535 non-null  float64\n",
      " 17  voting_precinct       24535 non-null  object \n",
      " 18  latitude              24535 non-null  float64\n",
      " 19  longitude             24535 non-null  float64\n",
      " 20  start_date            24535 non-null  object \n",
      " 21  end_date              24535 non-null  object \n",
      " 22  objectid              24535 non-null  int64  \n",
      "dtypes: float64(10), int64(2), object(11)\n",
      "memory usage: 4.3+ MB\n"
     ]
    }
   ],
   "source": [
    "df.info()"
   ]
  },
  {
   "cell_type": "code",
   "execution_count": 5,
   "metadata": {},
   "outputs": [],
   "source": [
    "num_types = ['int64', 'float64']"
   ]
  },
  {
   "cell_type": "code",
   "execution_count": 6,
   "metadata": {},
   "outputs": [],
   "source": [
    "numeric = list(df.select_dtypes(include=num_types))\n",
    "for col in numeric:\n",
    "    df[col].fillna(value=df[col].mean(), inplace=True)"
   ]
  },
  {
   "cell_type": "code",
   "execution_count": 7,
   "metadata": {},
   "outputs": [],
   "source": [
    "categorical = list(df.select_dtypes(include='O'))\n",
    "for col in categorical:\n",
    "    most_occurring_word = df[col].mode()[0]\n",
    "    df[col] = df[col].fillna(most_occurring_word)"
   ]
  },
  {
   "cell_type": "code",
   "execution_count": null,
   "metadata": {},
   "outputs": [],
   "source": []
  },
  {
   "cell_type": "code",
   "execution_count": null,
   "metadata": {},
   "outputs": [],
   "source": []
  },
  {
   "cell_type": "code",
   "execution_count": null,
   "metadata": {},
   "outputs": [],
   "source": []
  },
  {
   "cell_type": "code",
   "execution_count": null,
   "metadata": {},
   "outputs": [],
   "source": []
  },
  {
   "cell_type": "code",
   "execution_count": null,
   "metadata": {},
   "outputs": [],
   "source": []
  }
 ],
 "metadata": {
  "kernelspec": {
   "display_name": "Python 3",
   "language": "python",
   "name": "python3"
  },
  "language_info": {
   "codemirror_mode": {
    "name": "ipython",
    "version": 3
   },
   "file_extension": ".py",
   "mimetype": "text/x-python",
   "name": "python",
   "nbconvert_exporter": "python",
   "pygments_lexer": "ipython3",
   "version": "3.8.20"
  }
 },
 "nbformat": 4,
 "nbformat_minor": 2
}
